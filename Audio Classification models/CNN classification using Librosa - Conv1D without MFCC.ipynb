{
 "cells": [
  {
   "cell_type": "code",
   "execution_count": 18,
   "id": "fifty-supply",
   "metadata": {},
   "outputs": [],
   "source": [
    "#Import the libraries\n",
    "import os, random\n",
    "import numpy as np\n",
    "import pandas as pd\n",
    "import tensorflow as tf\n",
    "import librosa as lib\n",
    "import librosa.display\n",
    "import matplotlib.pyplot as plt\n",
    "import seaborn as sb\n",
    "from scipy.io import wavfile as wav\n",
    "from sklearn.preprocessing import OneHotEncoder\n",
    "from sklearn.compose import ColumnTransformer\n",
    "from sklearn.model_selection import train_test_split\n",
    "from sklearn.preprocessing import StandardScaler, LabelBinarizer\n",
    "from sklearn.metrics import accuracy_score\n",
    "\n",
    "from tensorflow.keras.layers import Dense,Dropout, Conv1D, MaxPooling1D, Flatten\n",
    "from tensorflow.keras.models import Sequential\n",
    "import IPython.display as ipd\n",
    "%matplotlib inline"
   ]
  },
  {
   "cell_type": "code",
   "execution_count": 20,
   "id": "alternative-bracket",
   "metadata": {},
   "outputs": [
    {
     "name": "stdout",
     "output_type": "stream",
     "text": [
      "['left', 'one', 'right', 'stop', 'three', 'two']\n"
     ]
    }
   ],
   "source": [
    "#Access the audio image filepath\n",
    "train_audio_path = '../Dataset audio samples/classification dataset/'\n",
    "test_audio_path = '../Dataset audio samples/classification test samples/'\n",
    "labels = os.listdir(train_audio_path)\n",
    "print(labels)"
   ]
  },
  {
   "cell_type": "code",
   "execution_count": 3,
   "id": "nearby-humidity",
   "metadata": {},
   "outputs": [],
   "source": [
    "#Preprocessing below:\n",
    "#Resampling at 8000kHz\n",
    "#Filtering out audio <1s in length\n",
    "#Creating arrays of audio and its labels an dcreate a dataframe from them\n",
    "\n",
    "x_audio_array=[]\n",
    "y_label_array=[]\n",
    "sample_rate = 8000\n",
    "count = 0\n",
    "count1 = 0\n",
    "\n",
    "for label in labels:\n",
    "    audios = [f for f in os.listdir(train_audio_path+label) if f.endswith('.wav')]\n",
    "    for aud in audios:\n",
    "        #Resampling\n",
    "        sam,rate = lib.load(train_audio_path+label+'/'+aud, sr=sample_rate)\n",
    "        if len(sam)/rate == 1:\n",
    "            x_audio_array.append(sam)\n",
    "            y_label_array.append(label)"
   ]
  },
  {
   "cell_type": "code",
   "execution_count": 4,
   "id": "crazy-claim",
   "metadata": {},
   "outputs": [
    {
     "name": "stdout",
     "output_type": "stream",
     "text": [
      "(12837, 6)\n"
     ]
    }
   ],
   "source": [
    "#Encoding categorical data(labels)\n",
    "lb = LabelBinarizer()\n",
    "y_encoded = lb.fit_transform(y_label_array)\n",
    "print(y_encoded.shape)"
   ]
  },
  {
   "cell_type": "code",
   "execution_count": 5,
   "id": "individual-polymer",
   "metadata": {},
   "outputs": [
    {
     "name": "stdout",
     "output_type": "stream",
     "text": [
      "(12837, 8000, 1)\n"
     ]
    }
   ],
   "source": [
    "x_audios = np.array(x_audio_array).reshape(-1,8000,1)\n",
    "print(x_audios.shape)"
   ]
  },
  {
   "cell_type": "code",
   "execution_count": 6,
   "id": "controlling-hypothesis",
   "metadata": {},
   "outputs": [],
   "source": [
    "#Split datasets into training and test data\n",
    "x_train, x_test, y_train, y_test = train_test_split(x_audios, y_encoded, test_size=0.3, random_state=0)"
   ]
  },
  {
   "cell_type": "code",
   "execution_count": 7,
   "id": "economic-ivory",
   "metadata": {},
   "outputs": [
    {
     "name": "stdout",
     "output_type": "stream",
     "text": [
      "(8985, 8000, 1)\n",
      "(8985, 6)\n"
     ]
    }
   ],
   "source": [
    "print(x_train.shape)\n",
    "print(y_train.shape)"
   ]
  },
  {
   "cell_type": "code",
   "execution_count": 13,
   "id": "designed-enzyme",
   "metadata": {},
   "outputs": [
    {
     "name": "stdout",
     "output_type": "stream",
     "text": [
      "Model: \"sequential_1\"\n",
      "_________________________________________________________________\n",
      "Layer (type)                 Output Shape              Param #   \n",
      "=================================================================\n",
      "conv1d_4 (Conv1D)            (None, 7993, 16)          144       \n",
      "_________________________________________________________________\n",
      "max_pooling1d_4 (MaxPooling1 (None, 3996, 16)          0         \n",
      "_________________________________________________________________\n",
      "conv1d_5 (Conv1D)            (None, 3989, 16)          2064      \n",
      "_________________________________________________________________\n",
      "max_pooling1d_5 (MaxPooling1 (None, 1994, 16)          0         \n",
      "_________________________________________________________________\n",
      "dropout_1 (Dropout)          (None, 1994, 16)          0         \n",
      "_________________________________________________________________\n",
      "conv1d_6 (Conv1D)            (None, 1987, 16)          2064      \n",
      "_________________________________________________________________\n",
      "max_pooling1d_6 (MaxPooling1 (None, 993, 16)           0         \n",
      "_________________________________________________________________\n",
      "dropout_2 (Dropout)          (None, 993, 16)           0         \n",
      "_________________________________________________________________\n",
      "conv1d_7 (Conv1D)            (None, 986, 16)           2064      \n",
      "_________________________________________________________________\n",
      "max_pooling1d_7 (MaxPooling1 (None, 493, 16)           0         \n",
      "_________________________________________________________________\n",
      "dropout_3 (Dropout)          (None, 493, 16)           0         \n",
      "_________________________________________________________________\n",
      "flatten_1 (Flatten)          (None, 7888)              0         \n",
      "_________________________________________________________________\n",
      "dense_2 (Dense)              (None, 128)               1009792   \n",
      "_________________________________________________________________\n",
      "dropout_4 (Dropout)          (None, 128)               0         \n",
      "_________________________________________________________________\n",
      "dense_3 (Dense)              (None, 6)                 774       \n",
      "=================================================================\n",
      "Total params: 1,016,902\n",
      "Trainable params: 1,016,902\n",
      "Non-trainable params: 0\n",
      "_________________________________________________________________\n"
     ]
    }
   ],
   "source": [
    "#Create 1D conv1d CNN model\n",
    "\n",
    "cnn1d = Sequential()\n",
    "\n",
    "#1st 1D conv layer and maxpooling layer\n",
    "cnn1d.add(Conv1D(filters=16, kernel_size = 8, activation='relu', input_shape=(8000,1)))\n",
    "cnn1d.add(MaxPooling1D(pool_size=2, strides=2))\n",
    "\n",
    "#2nd 1D conv layer and maxpooling layer\n",
    "cnn1d.add(Conv1D(filters=16, kernel_size = 8, activation='relu'))\n",
    "cnn1d.add(MaxPooling1D(pool_size=2, strides=2))\n",
    "cnn1d.add(Dropout(0.3))\n",
    "\n",
    "#3rd 1D conv layer and maxpooling layer\n",
    "cnn1d.add(Conv1D(filters=16, kernel_size = 8, activation='relu'))\n",
    "cnn1d.add(MaxPooling1D(pool_size=2, strides=2))\n",
    "cnn1d.add(Dropout(0.3))\n",
    "\n",
    "#4th 1D conv layer and maxpooling layer\n",
    "cnn1d.add(Conv1D(filters=16, kernel_size = 8, activation='relu'))\n",
    "cnn1d.add(MaxPooling1D(pool_size=2, strides=2))\n",
    "cnn1d.add(Dropout(0.3))\n",
    "\n",
    "#Flattening\n",
    "cnn1d.add(Flatten())\n",
    "\n",
    "#Fully connected layer\n",
    "cnn1d.add(Dense(units=128, activation='relu'))\n",
    "cnn1d.add(Dropout(0.3))\n",
    "\n",
    "#Output layer\n",
    "cnn1d.add(Dense(units=6, activation='softmax'))\n",
    "\n",
    "cnn1d.summary()"
   ]
  },
  {
   "cell_type": "code",
   "execution_count": 14,
   "id": "fitting-table",
   "metadata": {},
   "outputs": [
    {
     "name": "stdout",
     "output_type": "stream",
     "text": [
      "Epoch 1/150\n",
      "281/281 [==============================] - 69s 247ms/step - loss: 1.5792 - accuracy: 0.3006\n",
      "Epoch 2/150\n",
      "281/281 [==============================] - 69s 245ms/step - loss: 1.1340 - accuracy: 0.5308\n",
      "Epoch 3/150\n",
      "281/281 [==============================] - 69s 244ms/step - loss: 0.9857 - accuracy: 0.5994\n",
      "Epoch 4/150\n",
      "281/281 [==============================] - 70s 247ms/step - loss: 0.8627 - accuracy: 0.6472\n",
      "Epoch 5/150\n",
      "281/281 [==============================] - 71s 254ms/step - loss: 0.7911 - accuracy: 0.6874\n",
      "Epoch 6/150\n",
      "281/281 [==============================] - 75s 266ms/step - loss: 0.7231 - accuracy: 0.7062\n",
      "Epoch 7/150\n",
      "281/281 [==============================] - 75s 266ms/step - loss: 0.6504 - accuracy: 0.7344\n",
      "Epoch 8/150\n",
      "281/281 [==============================] - 75s 268ms/step - loss: 0.5980 - accuracy: 0.7600\n",
      "Epoch 9/150\n",
      "281/281 [==============================] - 75s 265ms/step - loss: 0.5563 - accuracy: 0.7784\n",
      "Epoch 10/150\n",
      "281/281 [==============================] - 72s 257ms/step - loss: 0.5193 - accuracy: 0.7951\n",
      "Epoch 11/150\n",
      "281/281 [==============================] - 74s 264ms/step - loss: 0.4893 - accuracy: 0.8070\n",
      "Epoch 12/150\n",
      "281/281 [==============================] - 74s 263ms/step - loss: 0.4440 - accuracy: 0.8268\n",
      "Epoch 13/150\n",
      "281/281 [==============================] - 73s 261ms/step - loss: 0.4130 - accuracy: 0.8395\n",
      "Epoch 14/150\n",
      "281/281 [==============================] - 76s 269ms/step - loss: 0.3891 - accuracy: 0.8495\n",
      "Epoch 15/150\n",
      "281/281 [==============================] - 76s 270ms/step - loss: 0.3659 - accuracy: 0.8592\n",
      "Epoch 16/150\n",
      "281/281 [==============================] - 74s 265ms/step - loss: 0.3396 - accuracy: 0.8738\n",
      "Epoch 17/150\n",
      "281/281 [==============================] - 73s 260ms/step - loss: 0.3103 - accuracy: 0.8857\n",
      "Epoch 18/150\n",
      "281/281 [==============================] - 72s 258ms/step - loss: 0.2911 - accuracy: 0.8924\n",
      "Epoch 19/150\n",
      "281/281 [==============================] - 73s 259ms/step - loss: 0.2754 - accuracy: 0.8988\n",
      "Epoch 20/150\n",
      "281/281 [==============================] - 73s 258ms/step - loss: 0.2553 - accuracy: 0.9034\n",
      "Epoch 21/150\n",
      "281/281 [==============================] - 64s 228ms/step - loss: 0.2580 - accuracy: 0.9106\n",
      "Epoch 22/150\n",
      "281/281 [==============================] - 58s 205ms/step - loss: 0.2415 - accuracy: 0.9120s -\n",
      "Epoch 23/150\n",
      "281/281 [==============================] - 54s 193ms/step - loss: 0.2374 - accuracy: 0.9140\n",
      "Epoch 24/150\n",
      "281/281 [==============================] - 54s 193ms/step - loss: 0.2055 - accuracy: 0.9250 45s - loss: 0.1881 -  - ETA: 0s - loss: 0.2057 - accu\n",
      "Epoch 25/150\n",
      "281/281 [==============================] - 54s 193ms/step - loss: 0.2092 - accuracy: 0.9214\n",
      "Epoch 26/150\n",
      "281/281 [==============================] - 55s 196ms/step - loss: 0.1980 - accuracy: 0.9313s - loss:\n",
      "Epoch 27/150\n",
      "281/281 [==============================] - 55s 194ms/step - loss: 0.1956 - accuracy: 0.9280 33s - loss: 0.1909 - accuracy: 0.93 - ETA: 33s - loss - ETA: 28s - loss: 0.189\n",
      "Epoch 28/150\n",
      "281/281 [==============================] - 55s 196ms/step - loss: 0.2015 - accuracy: 0.9274\n",
      "Epoch 29/150\n",
      "281/281 [==============================] - 55s 196ms/step - loss: 0.1794 - accuracy: 0.9410\n",
      "Epoch 30/150\n",
      "281/281 [==============================] - 55s 195ms/step - loss: 0.1724 - accuracy: 0.9364s - loss: 0.1723 - accuracy: \n",
      "Epoch 31/150\n",
      "281/281 [==============================] - 55s 197ms/step - loss: 0.1759 - accuracy: 0.9397\n",
      "Epoch 32/150\n",
      "281/281 [==============================] - 55s 196ms/step - loss: 0.1758 - accuracy: 0.9375\n",
      "Epoch 33/150\n",
      "281/281 [==============================] - 56s 199ms/step - loss: 0.1690 - accuracy: 0.9405\n",
      "Epoch 34/150\n",
      "281/281 [==============================] - 56s 198ms/step - loss: 0.1498 - accuracy: 0.9484 19s - loss: 0.1570 - ac\n",
      "Epoch 35/150\n",
      "281/281 [==============================] - 56s 198ms/step - loss: 0.1540 - accuracy: 0.9469\n",
      "Epoch 36/150\n",
      "281/281 [==============================] - 56s 198ms/step - loss: 0.1474 - accuracy: 0.9466s - loss: 0.1473 - ac\n",
      "Epoch 37/150\n",
      "281/281 [==============================] - 56s 201ms/step - loss: 0.1448 - accuracy: 0.9488\n",
      "Epoch 38/150\n",
      "281/281 [==============================] - 56s 201ms/step - loss: 0.1414 - accuracy: 0.9500\n",
      "Epoch 39/150\n",
      "281/281 [==============================] - 56s 201ms/step - loss: 0.1432 - accuracy: 0.9517\n",
      "Epoch 40/150\n",
      "281/281 [==============================] - 56s 200ms/step - loss: 0.1393 - accuracy: 0.9499\n",
      "Epoch 41/150\n",
      "281/281 [==============================] - 57s 201ms/step - loss: 0.1340 - accuracy: 0.9531\n",
      "Epoch 42/150\n",
      "281/281 [==============================] - 57s 203ms/step - loss: 0.1244 - accuracy: 0.9570\n",
      "Epoch 43/150\n",
      "281/281 [==============================] - 56s 201ms/step - loss: 0.1274 - accuracy: 0.9570\n",
      "Epoch 44/150\n",
      "281/281 [==============================] - 56s 200ms/step - loss: 0.1351 - accuracy: 0.9556\n",
      "Epoch 45/150\n",
      "281/281 [==============================] - 57s 204ms/step - loss: 0.1215 - accuracy: 0.9573\n",
      "Epoch 46/150\n",
      "281/281 [==============================] - 56s 201ms/step - loss: 0.1174 - accuracy: 0.9582 20s - loss: 0.1175 - accuracy -  - ETA: 5s - loss: 0.1167 - accura - ETA: 4s - loss: 0.1163 - accura - ETA: 3s - loss: 0.1163 - accuracy - ETA: 2s - l\n",
      "Epoch 47/150\n",
      "281/281 [==============================] - 57s 202ms/step - loss: 0.1119 - accuracy: 0.9615\n",
      "Epoch 48/150\n",
      "281/281 [==============================] - 58s 205ms/step - loss: 0.1280 - accuracy: 0.9566s - loss: 0.1272 - accuracy: 0.95 - ETA: 2s - loss:\n",
      "Epoch 49/150\n",
      "281/281 [==============================] - 57s 204ms/step - loss: 0.1271 - accuracy: 0.9559\n",
      "Epoch 50/150\n",
      "281/281 [==============================] - 57s 202ms/step - loss: 0.1228 - accuracy: 0.9583s - l\n",
      "Epoch 51/150\n",
      "281/281 [==============================] - 57s 204ms/step - loss: 0.1203 - accuracy: 0.9600\n",
      "Epoch 52/150\n",
      "281/281 [==============================] - 58s 208ms/step - loss: 0.1239 - accuracy: 0.9572\n",
      "Epoch 53/150\n",
      "281/281 [==============================] - 57s 201ms/step - loss: 0.1105 - accuracy: 0.9633\n",
      "Epoch 54/150\n",
      "281/281 [==============================] - 57s 203ms/step - loss: 0.1172 - accuracy: 0.9606\n",
      "Epoch 55/150\n",
      "281/281 [==============================] - 58s 205ms/step - loss: 0.1090 - accuracy: 0.9625\n",
      "Epoch 56/150\n",
      "281/281 [==============================] - 58s 208ms/step - loss: 0.1120 - accuracy: 0.9622\n",
      "Epoch 57/150\n",
      "281/281 [==============================] - 58s 206ms/step - loss: 0.1066 - accuracy: 0.9623\n",
      "Epoch 58/150\n",
      "281/281 [==============================] - 58s 206ms/step - loss: 0.1057 - accuracy: 0.9637\n",
      "Epoch 59/150\n",
      "281/281 [==============================] - 58s 206ms/step - loss: 0.0975 - accuracy: 0.9675\n",
      "Epoch 60/150\n",
      "281/281 [==============================] - 58s 206ms/step - loss: 0.1151 - accuracy: 0.9610\n",
      "Epoch 61/150\n",
      "281/281 [==============================] - 58s 207ms/step - loss: 0.1017 - accuracy: 0.9646\n",
      "Epoch 62/150\n",
      "281/281 [==============================] - 58s 206ms/step - loss: 0.1054 - accuracy: 0.9656\n",
      "Epoch 63/150\n",
      "281/281 [==============================] - 58s 207ms/step - loss: 0.0999 - accuracy: 0.9645s - loss: 0.0993 - accuracy: \n",
      "Epoch 64/150\n",
      "281/281 [==============================] - 58s 208ms/step - loss: 0.0926 - accuracy: 0.9686\n",
      "Epoch 65/150\n",
      "281/281 [==============================] - 58s 206ms/step - loss: 0.0950 - accuracy: 0.9695\n",
      "Epoch 66/150\n",
      "281/281 [==============================] - 62s 221ms/step - loss: 0.1035 - accuracy: 0.9641s - l\n",
      "Epoch 67/150\n",
      "281/281 [==============================] - 72s 256ms/step - loss: 0.0877 - accuracy: 0.9711\n",
      "Epoch 68/150\n",
      "281/281 [==============================] - 71s 252ms/step - loss: 0.0955 - accuracy: 0.9661\n",
      "Epoch 69/150\n",
      "281/281 [==============================] - 69s 245ms/step - loss: 0.0986 - accuracy: 0.9661\n",
      "Epoch 70/150\n",
      "281/281 [==============================] - 71s 252ms/step - loss: 0.0922 - accuracy: 0.9678\n",
      "Epoch 71/150\n",
      "281/281 [==============================] - 70s 248ms/step - loss: 0.1081 - accuracy: 0.9656\n",
      "Epoch 72/150\n",
      "281/281 [==============================] - 70s 251ms/step - loss: 0.0923 - accuracy: 0.9657\n",
      "Epoch 73/150\n",
      "281/281 [==============================] - 70s 250ms/step - loss: 0.0939 - accuracy: 0.9691\n",
      "Epoch 74/150\n"
     ]
    },
    {
     "name": "stdout",
     "output_type": "stream",
     "text": [
      "281/281 [==============================] - 71s 254ms/step - loss: 0.0957 - accuracy: 0.9701\n",
      "Epoch 75/150\n",
      "281/281 [==============================] - 70s 248ms/step - loss: 0.0845 - accuracy: 0.9721\n",
      "Epoch 76/150\n",
      "281/281 [==============================] - 63s 224ms/step - loss: 0.0915 - accuracy: 0.9685\n",
      "Epoch 77/150\n",
      "281/281 [==============================] - 62s 222ms/step - loss: 0.0861 - accuracy: 0.9720\n",
      "Epoch 78/150\n",
      "281/281 [==============================] - 61s 218ms/step - loss: 0.0864 - accuracy: 0.9716\n",
      "Epoch 79/150\n",
      "281/281 [==============================] - 60s 214ms/step - loss: 0.0803 - accuracy: 0.9731\n",
      "Epoch 80/150\n",
      "281/281 [==============================] - 62s 219ms/step - loss: 0.0879 - accuracy: 0.9684\n",
      "Epoch 81/150\n",
      "281/281 [==============================] - 61s 218ms/step - loss: 0.0816 - accuracy: 0.9723\n",
      "Epoch 82/150\n",
      "281/281 [==============================] - 57s 204ms/step - loss: 0.0900 - accuracy: 0.9703\n",
      "Epoch 83/150\n",
      "281/281 [==============================] - 57s 201ms/step - loss: 0.0898 - accuracy: 0.9686 0s - loss: 0.0901 - accuracy: \n",
      "Epoch 84/150\n",
      "281/281 [==============================] - 56s 199ms/step - loss: 0.0814 - accuracy: 0.9724\n",
      "Epoch 85/150\n",
      "281/281 [==============================] - 56s 199ms/step - loss: 0.0902 - accuracy: 0.9703\n",
      "Epoch 86/150\n",
      "281/281 [==============================] - 56s 201ms/step - loss: 0.0877 - accuracy: 0.9705\n",
      "Epoch 87/150\n",
      "281/281 [==============================] - 57s 201ms/step - loss: 0.0785 - accuracy: 0.9723s - loss: 0.0793 - accu\n",
      "Epoch 88/150\n",
      "281/281 [==============================] - 58s 205ms/step - loss: 0.0694 - accuracy: 0.9758\n",
      "Epoch 89/150\n",
      "281/281 [==============================] - 56s 201ms/step - loss: 0.0842 - accuracy: 0.9731\n",
      "Epoch 90/150\n",
      "281/281 [==============================] - 56s 201ms/step - loss: 0.0885 - accuracy: 0.9701\n",
      "Epoch 91/150\n",
      "281/281 [==============================] - 57s 202ms/step - loss: 0.0742 - accuracy: 0.9725\n",
      "Epoch 92/150\n",
      "281/281 [==============================] - 57s 202ms/step - loss: 0.0772 - accuracy: 0.9737 29s - loss: 0.0721 - accur - ETA: 27s - loss: 0.0730 - accuracy:\n",
      "Epoch 93/150\n",
      "281/281 [==============================] - 56s 200ms/step - loss: 0.0798 - accuracy: 0.9740\n",
      "Epoch 94/150\n",
      "281/281 [==============================] - 56s 199ms/step - loss: 0.0826 - accuracy: 0.9712\n",
      "Epoch 95/150\n",
      "281/281 [==============================] - 57s 202ms/step - loss: 0.0776 - accuracy: 0.9726s - loss: 0.0776 - ac - ETA: 1s - loss: 0.0774 \n",
      "Epoch 96/150\n",
      "281/281 [==============================] - 56s 200ms/step - loss: 0.0850 - accuracy: 0.9722\n",
      "Epoch 97/150\n",
      "281/281 [==============================] - 57s 202ms/step - loss: 0.0851 - accuracy: 0.9735\n",
      "Epoch 98/150\n",
      "281/281 [==============================] - 56s 199ms/step - loss: 0.0871 - accuracy: 0.9707\n",
      "Epoch 99/150\n",
      "281/281 [==============================] - 56s 201ms/step - loss: 0.0789 - accuracy: 0.9740\n",
      "Epoch 100/150\n",
      "281/281 [==============================] - 53s 190ms/step - loss: 0.0770 - accuracy: 0.9736 43s - loss: 0.0739 - ac\n",
      "Epoch 101/150\n",
      "281/281 [==============================] - 53s 190ms/step - loss: 0.0696 - accuracy: 0.9775s - loss: 0.0700 - \n",
      "Epoch 102/150\n",
      "281/281 [==============================] - 58s 208ms/step - loss: 0.0821 - accuracy: 0.9727\n",
      "Epoch 103/150\n",
      "281/281 [==============================] - 55s 196ms/step - loss: 0.0732 - accuracy: 0.9740\n",
      "Epoch 104/150\n",
      "281/281 [==============================] - 57s 202ms/step - loss: 0.0732 - accuracy: 0.9743s - loss: 0.072 - E\n",
      "Epoch 105/150\n",
      "281/281 [==============================] - 56s 200ms/step - loss: 0.0728 - accuracy: 0.9734\n",
      "Epoch 106/150\n",
      "281/281 [==============================] - 57s 201ms/step - loss: 0.0890 - accuracy: 0.9715\n",
      "Epoch 107/150\n",
      "281/281 [==============================] - 56s 199ms/step - loss: 0.0727 - accuracy: 0.9777\n",
      "Epoch 108/150\n",
      "281/281 [==============================] - 56s 201ms/step - loss: 0.0707 - accuracy: 0.9740\n",
      "Epoch 109/150\n",
      "281/281 [==============================] - 58s 208ms/step - loss: 0.0672 - accuracy: 0.9764\n",
      "Epoch 110/150\n",
      "281/281 [==============================] - 58s 207ms/step - loss: 0.0853 - accuracy: 0.9727\n",
      "Epoch 111/150\n",
      "281/281 [==============================] - 58s 207ms/step - loss: 0.0920 - accuracy: 0.9727s - ETA: 0s - loss: 0.0922 - accuracy: \n",
      "Epoch 112/150\n",
      "281/281 [==============================] - 58s 207ms/step - loss: 0.0719 - accuracy: 0.9762\n",
      "Epoch 113/150\n",
      "281/281 [==============================] - 57s 202ms/step - loss: 0.0709 - accuracy: 0.9754\n",
      "Epoch 114/150\n",
      "281/281 [==============================] - 57s 201ms/step - loss: 0.0567 - accuracy: 0.9781\n",
      "Epoch 115/150\n",
      "281/281 [==============================] - 57s 204ms/step - loss: 0.0830 - accuracy: 0.9733\n",
      "Epoch 116/150\n",
      "281/281 [==============================] - 57s 203ms/step - loss: 0.0669 - accuracy: 0.9773s - los\n",
      "Epoch 117/150\n",
      "281/281 [==============================] - 56s 198ms/step - loss: 0.0564 - accuracy: 0.9805\n",
      "Epoch 118/150\n",
      "281/281 [==============================] - 55s 194ms/step - loss: 0.0764 - accuracy: 0.9733\n",
      "Epoch 119/150\n",
      "281/281 [==============================] - 54s 192ms/step - loss: 0.0735 - accuracy: 0.9755\n",
      "Epoch 120/150\n",
      "281/281 [==============================] - 54s 191ms/step - loss: 0.0634 - accuracy: 0.9781\n",
      "Epoch 121/150\n",
      "281/281 [==============================] - 54s 192ms/step - loss: 0.0671 - accuracy: 0.9781: 18s - loss: 0.0612 - accuracy: 0 - ETA: 17s - - ETA: 6s - l - E\n",
      "Epoch 122/150\n",
      "281/281 [==============================] - 55s 194ms/step - loss: 0.0680 - accuracy: 0.9763 - ETA: 25s - loss: 0.0610 -  - ETA: 13s - loss: 0.0694 - accuracy: 0. - ETA: - ETA: 7s - loss: 0.0716 - accuracy - - ETA: 2s - loss: 0.0692 - accura - ETA: 1s - loss: 0.0\n",
      "Epoch 123/150\n",
      "281/281 [==============================] - 54s 191ms/step - loss: 0.0631 - accuracy: 0.9780\n",
      "Epoch 124/150\n",
      "281/281 [==============================] - 54s 191ms/step - loss: 0.0577 - accuracy: 0.9800\n",
      "Epoch 125/150\n",
      "281/281 [==============================] - 54s 191ms/step - loss: 0.0650 - accuracy: 0.9765\n",
      "Epoch 126/150\n",
      "281/281 [==============================] - 53s 190ms/step - loss: 0.0767 - accuracy: 0.9767 14s - loss: 0.0712 - accu - ETA: 11s - loss: 0 - ETA: 8s - loss: 0.0762 - accu - ETA: \n",
      "Epoch 127/150\n",
      "281/281 [==============================] - 53s 190ms/step - loss: 0.0835 - accuracy: 0.9742\n",
      "Epoch 128/150\n",
      "281/281 [==============================] - 53s 190ms/step - loss: 0.0655 - accuracy: 0.9782\n",
      "Epoch 129/150\n",
      "281/281 [==============================] - 54s 193ms/step - loss: 0.0644 - accuracy: 0.9776\n",
      "Epoch 130/150\n",
      "281/281 [==============================] - 57s 201ms/step - loss: 0.0721 - accuracy: 0.9758\n",
      "Epoch 131/150\n",
      "281/281 [==============================] - 56s 198ms/step - loss: 0.0663 - accuracy: 0.9760 40 - ETA: 25s - loss: 0.0737 - accuracy: - ETA: 23s -  - ETA: 17s - - ETA: 6s - loss: 0.0\n",
      "Epoch 132/150\n",
      "281/281 [==============================] - 56s 199ms/step - loss: 0.0624 - accuracy: 0.9792\n",
      "Epoch 133/150\n",
      "281/281 [==============================] - 56s 198ms/step - loss: 0.0678 - accuracy: 0.9771s - loss: 0.0676  - ETA: 0s - loss: 0.0679 - accuracy: \n",
      "Epoch 134/150\n",
      "281/281 [==============================] - 54s 192ms/step - loss: 0.0598 - accuracy: 0.9790\n",
      "Epoch 135/150\n",
      "281/281 [==============================] - 54s 192ms/step - loss: 0.0827 - accuracy: 0.9723ETA: 5s - loss: 0.0852 - ac -\n",
      "Epoch 136/150\n",
      "281/281 [==============================] - 58s 206ms/step - loss: 0.0593 - accuracy: 0.9785\n",
      "Epoch 137/150\n",
      "281/281 [==============================] - 59s 209ms/step - loss: 0.0805 - accuracy: 0.9736\n",
      "Epoch 138/150\n",
      "281/281 [==============================] - 59s 208ms/step - loss: 0.0613 - accuracy: 0.9794\n",
      "Epoch 139/150\n",
      "281/281 [==============================] - 55s 197ms/step - loss: 0.0668 - accuracy: 0.9770\n",
      "Epoch 140/150\n",
      "281/281 [==============================] - 56s 198ms/step - loss: 0.0589 - accuracy: 0.9799\n",
      "Epoch 141/150\n",
      "281/281 [==============================] - 56s 198ms/step - loss: 0.0507 - accuracy: 0.9813\n",
      "Epoch 142/150\n",
      "281/281 [==============================] - 59s 209ms/step - loss: 0.0616 - accuracy: 0.9802\n",
      "Epoch 143/150\n"
     ]
    },
    {
     "name": "stdout",
     "output_type": "stream",
     "text": [
      "281/281 [==============================] - 54s 192ms/step - loss: 0.0648 - accuracy: 0.9785\n",
      "Epoch 144/150\n",
      "281/281 [==============================] - 56s 200ms/step - loss: 0.0712 - accuracy: 0.9750\n",
      "Epoch 145/150\n",
      "281/281 [==============================] - 56s 200ms/step - loss: 0.0689 - accuracy: 0.9771\n",
      "Epoch 146/150\n",
      "281/281 [==============================] - 56s 200ms/step - loss: 0.0657 - accuracy: 0.9769\n",
      "Epoch 147/150\n",
      "281/281 [==============================] - 56s 199ms/step - loss: 0.0639 - accuracy: 0.9758\n",
      "Epoch 148/150\n",
      "281/281 [==============================] - 60s 212ms/step - loss: 0.0752 - accuracy: 0.9748\n",
      "Epoch 149/150\n",
      "281/281 [==============================] - 57s 202ms/step - loss: 0.0579 - accuracy: 0.9804s - loss: 0\n",
      "Epoch 150/150\n",
      "281/281 [==============================] - 56s 199ms/step - loss: 0.0672 - accuracy: 0.9790\n"
     ]
    },
    {
     "data": {
      "text/plain": [
       "<tensorflow.python.keras.callbacks.History at 0x1b599cc3be0>"
      ]
     },
     "execution_count": 14,
     "metadata": {},
     "output_type": "execute_result"
    }
   ],
   "source": [
    "#Compile CNN\n",
    "cnn1d.compile(optimizer='adam', loss='categorical_crossentropy', metrics=['accuracy'])\n",
    "\n",
    "#Fit the model(train)\n",
    "cnn1d.fit(x_train, y_train, batch_size=32, epochs=150)"
   ]
  },
  {
   "cell_type": "code",
   "execution_count": 51,
   "id": "exceptional-haiti",
   "metadata": {},
   "outputs": [
    {
     "name": "stdout",
     "output_type": "stream",
     "text": [
      "Training Accuracy:  0.9939900040626526\n",
      "Testing Accuracy:  0.8582554459571838\n"
     ]
    }
   ],
   "source": [
    "# Evaluating the model on the training and testing set\n",
    "score = cnn1d.evaluate(x_train, y_train, verbose=0)\n",
    "print(\"Training Accuracy: \", score[1])\n",
    "\n",
    "score = cnn1d.evaluate(x_test, y_test, verbose=0)\n",
    "print(\"Testing Accuracy: \", score[1])"
   ]
  },
  {
   "cell_type": "code",
   "execution_count": 52,
   "id": "fluid-civilization",
   "metadata": {},
   "outputs": [
    {
     "name": "stdout",
     "output_type": "stream",
     "text": [
      "stop\n",
      "Accuracy score:  0.8582554517133957\n"
     ]
    }
   ],
   "source": [
    "#Predict using ann model\n",
    "res=cnn1d.predict(x_test)\n",
    "print(lb.inverse_transform((res[0].reshape(1,-1)))[0])\n",
    "print('Accuracy score: ', accuracy_score(lb.inverse_transform(y_test),lb.inverse_transform(res)))"
   ]
  },
  {
   "cell_type": "code",
   "execution_count": 53,
   "id": "serious-swedish",
   "metadata": {},
   "outputs": [],
   "source": [
    "import sounddevice as sd\n",
    "from scipy.io.wavfile import write\n",
    "\n",
    "def record_audio():\n",
    "    rate = 8000  # Sample rate\n",
    "    seconds = 1  # Duration of recording\n",
    "\n",
    "    my_audio = sd.rec(int(seconds * rate), samplerate=rate, channels=1)\n",
    "    sd.wait()  # Wait until recording is finished\n",
    "    write(test_audio_path + 'test.wav', rate, my_audio)  # Save as WAV file \n",
    "    return 'test.wav'\n",
    "    \n",
    "def predict_audio(filename):\n",
    "    filepath = test_audio_path + filename\n",
    "    audio, sam = lib.load(filepath, sr=8000)\n",
    "    pad_width = 8000 - audio.shape[0]\n",
    "    audio = np.pad(audio, pad_width=(0,pad_width))\n",
    "    audio_predicted=cnn1d.predict(audio.reshape(1,audio.shape[0],1))\n",
    "    audio_class = lb.inverse_transform(audio_predicted) \n",
    "    print('Your audio (' + filename + ') belongs to the label: ', audio_class[0].upper())"
   ]
  },
  {
   "cell_type": "code",
   "execution_count": 54,
   "id": "prostate-tunisia",
   "metadata": {},
   "outputs": [
    {
     "name": "stdout",
     "output_type": "stream",
     "text": [
      "Your audio (stop (5).wav) belongs to the label:  STOP\n"
     ]
    },
    {
     "data": {
      "text/html": [
       "\n",
       "                <audio  controls=\"controls\" autoplay=\"autoplay\">\n",
       "                    <source src=\"data:audio/wav;base64,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\" type=\"audio/wav\" />\n",
       "                    Your browser does not support the audio element.\n",
       "                </audio>\n",
       "              "
      ],
      "text/plain": [
       "<IPython.lib.display.Audio object>"
      ]
     },
     "execution_count": 54,
     "metadata": {},
     "output_type": "execute_result"
    }
   ],
   "source": [
    "#Classify a random audio file from the unlabeled test folder\n",
    "file = random.choice([f for f in os.listdir(test_audio_path)])\n",
    "predict_audio(file)\n",
    "ipd.Audio(test_audio_path+file, autoplay=True)"
   ]
  },
  {
   "cell_type": "code",
   "execution_count": 63,
   "id": "assigned-circular",
   "metadata": {},
   "outputs": [
    {
     "name": "stdout",
     "output_type": "stream",
     "text": [
      "Your audio (test.wav) belongs to the label:  THREE\n"
     ]
    },
    {
     "data": {
      "text/html": [
       "\n",
       "                <audio  controls=\"controls\" autoplay=\"autoplay\">\n",
       "                    <source src=\"data:audio/wav;base64,UklGRjJ9AABXQVZFZm10IBIAAAADAAEAQB8AAAB9AAAEACAAAABmYWN0BAAAAEAfAABkYXRhAH0AAAAAAAAAAAAAAAAAuAAAAAAAAAAAAAAAAAAAAAAAAAC4AAAAAAAAAAAAAAAAAAAAAAAAAAAAAAAAAAAAAAAAAAAAAAAAAAAAAAAAAAAAAAAAAAAAAAAAAAAAAAC4AAAAAAAAAAAAAAAAAAAAAAAAAAAAAAAAAAAAAAAAAAAAAAAAAAAAOAAAAAAAAAC4AAAAAAAAAAAAAAAAAAAAAAAAAAAAAAAAAAAAAAAAAAAAAAAAAAAAAAAAAAAAAAAAAAAAAAAAAAAAAAAAAAAAAAAAAAAAAAAAAAAAAAAAALgAAAAAAAAAAAAAAAAAAAAAAAAAAAAAAAAAAAAAAAAAAAAAAAAAAAAAAAAAAAAAAAAAAAAAAAAAOAAAAAAAAAAAAAAAAAAAAAAAAAAAAAAAAAAAAAAAAAA4AAAAAAAAAAAAAAAAAAAAOAAAADgAAAAAAAAAAAAAAAAAAAC4AAAAOAAAADgAAAAAAAAAAAAAAAAAAAAAAAAAAAAAAAAAAAAAAAAAOAAAAAAAAAAAAAAAAAAAADgAAAAAAAAAAAAAAAAAAAAAAAAAAAAAALgAAAAAAAAAAAAAAAAAAAAAAAAAAAAAAAAAAAAAAAAAAAAAAAAAAAAAAAAAuAAAALgAAAC4AAAAAAAAAAAAAAAAAAAAAAAAALgAAAAAAAAAAAAAAAAAAAAAAAAAAAAAAAAAAAAAAAAAAAAAAAAAAAA4AAAAAAAAADgAAAAAAAAAAAAAAAAAAAAAAAAAAAAAAAAAAAA4AAAAuAAAAAAAAAA4AAAAuAAAAAAAAAAAAAAAAAAAAAAAAAAAAAAAAAAAAAAAAAC4AAAAAAAAAAAAAAAAAAAAuAAAAAAAAAC4AAAAAAAAAAAAAAAAAAAAAAAAAAAAAAC4AAAAAAAAAAAAAAAAAAAAAAAAAAAAAAAAAAAAuAAAAAAAAAAAAAAAAAAAAAAAAAAAAAAAAAAAAAAAAAAAAAAAuAAAALgAAAAAAAAAAAAAAAAAAAAAAAAAAAAAADgAAAAAAAAAAAAAAAAAAAAAAAAAAAAAALgAAAAAAAAAAAAAAAAAAAAAAAAAAAAAAAAAAAAAAAAAAAAAAAAAAAA4AAAAAAAAADgAAAAAAAAAAAAAADgAAAC4AAAAOAAAAAAAAAAAAAAAAAAAALgAAAC4AAAAAAAAAAAAAAAAAAAAuAAAAAAAAAC4AAAAAAAAAAAAAAAAAAAAuAAAAAAAAAAAAAAAAAAAAAAAAAA4AAAAAAAAAAAAAAAAAAAAAAAAAAAAAAAAAAAAOAAAAAAAAAA4AAAAAAAAAAAAAAAAAAAAAAAAAAAAAAAAAAAAOAAAAAAAAAAAAAAAAAAAADgAAAA4AAAAAAAAAAAAAAAAAAAAAAAAAAAAAAAAAAAAAAAAAAAAAAC4AAAAOAAAAAAAAAAAAAAAAAAAAAAAAAAAAAAAAAAAAAAAAAA4AAAAAAAAAAAAAAC4AAAAAAAAAAAAAAAAAAAAuAAAALgAAAAAAAAAAAAAADgAAAAAAAAAuAAAAAAAAAAAAAAAAAAAAAAAAAAAAAAAAAAAALgAAAC4AAAAAAAAAAAAAAC4AAAAOAAAAAAAAAA4AAAAAAAAAAAAAAAAAAAAAAAAAAAAAAAAAAAAOAAAAAAAAAAAAAAAAAAAALgAAAAAAAAAAAAAAAAAAAAAAAAAAAAAADgAAAC4AAAAAAAAAAAAAAAAAAAAAAAAAAAAAAAAAAAAAAAAAAAAAAAAAAAAOAAAAAAAAAAAAAAAAAAAAAAAAAAAAAAAAAAAALgAAAAAAAAAAAAAALgAAAAAAAAAAAAAALgAAAAAAAAAAAAAAAAAAAAAAAAAAAAAAAAAAAAAAAAAAAAAADgAAAAAAAAAAAAAALgAAAA4AAAAAAAAAAAAAAC4AAAAuAAAAAAAAAAAAAAAAAAAADgAAAC4AAAAAAAAAAAAAAAAAAAAuAAAADgAAAAAAAAAAAAAAAAAAAA4AAAAuAAAAAAAAAAAAAAAAAAAAAAAAAAAAAAAAAAAAAAAAAAAAAAAAAAAAAAAAAAAAAAAuAAAAAAAAAAAAAAAAAAAAAAAAAAAAAAAAAAAAAAAAAAAAAAAAAAAAAAAAAA4AAAAuAAAAAAAAAAAAAAAuAAAADgAAAAAAAAAAAAAAAAAAAAAAAAAAAAAAAAAAAAAAAAAAAAAAAAAAAAAAAAAAAAAAAAAAAAAAAAAAAAAALgAAAAAAAAAAAAAAAAAAAAAAAAAAAAAAAAAAAAAAAAAuAAAAAAAAAAAAAAAAAAAALgAAAAAAAAAAAAAALgAAAC4AAAAAAAAAAAAAAAAAAAAAAAAAAAAAAA4AAAAOAAAALgAAAAAAAAAuAAAAAAAAAAAAAAAAAAAAAAAAAAAAAAAAAAAAAAAAAAAAAAAOAAAAAAAAAAAAAAAAAAAAAAAAAC4AAAAOAAAAAAAAAAAAAAAOAAAAAAAAAAAAAAAAAAAAAAAAAAAAAAAOAAAADgAAAAAAAAAAAAAAAAAAAAAAAAAAAAAALgAAAAAAAAAuAAAADgAAAAAAAAAOAAAAAAAAAAAAAAAOAAAAAAAAAAAAAAAOAAAAAAAAAAAAAAAAAAAADgAAAC4AAAAuAAAADgAAAAAAAAAAAAAAAAAAAC4AAAAAAAAAAAAAAA4AAAAAAAAAAAAAAAAAAAAAAAAAAAAAAAAAAAAuAAAAAAAAAAAAAAAAAAAALgAAAAAAAAAAAAAADgAAAA4AAAAuAAAAAAAAAAAAAAAAAAAAAAAAAAAAAAAAAAAAAAAAAAAAAAAAAAAALgAAAA4AAAAAAAAAAAAAAA4AAAAAAAAAAAAAAAAAAAAAAAAADgAAAC4AAAAAAAAAAAAAAAAAAAAAAAAALgAAAA4AAAAAAAAAAAAAAC4AAAAAAAAAAAAAAAAAAAAAAAAAAAAAAC4AAAAAAAAALgAAAA4AAAAAAAAAAAAAAA4AAAAAAAAAAAAAAAAAAAAAAAAAAAAAAAAAAAAAAAAAAAAAAC4AAAAAAAAAAAAAAAAAAAAOAAAAAAAAAA4AAAAAAAAAAAAAAAAAAAAAAAAALgAAAAAAAAAAAAAADgAAAA4AAAAAAAAAAAAAAAAAAAAuAAAALgAAAAAAAAAAAAAAAAAAAC4AAAAAAAAAAAAAAA4AAAAAAAAADgAAAAAAAAAAAAAADgAAAAAAAAAAAAAADgAAAAAAAAAAAAAAAAAAAAAAAAAAAAAAAAAAAAAAAAAAAAAAAAAAAAAAAAAAAAAALgAAAA4AAAAAAAAAAAAAAAAAAAAAAAAAAAAAAAAAAAAAAAAAAAAAAAAAAAAAAAAALgAAAAAAAAAuAAAAAAAAAAAAAAAAAAAAAAAAAAAAAAAuAAAAAAAAAAAAAAAAAAAADgAAAAAAAAAAAAAAAAAAAAAAAAAAAAAAAAAAAAAAAAAAAAAAAAAAAC4AAAAOAAAADgAAAC4AAAAAAAAAAAAAAAAAAAAAAAAAAAAAAAAAAAAAAAAAAAAAAAAAAAAAAAAAAAAAAAAAAAAAAAAALgAAAAAAAAAAAAAAAAAAAAAAAAAAAAAAAAAAAAAAAAAAAAAALgAAAAAAAAAAAAAAAAAAAAAAAAAuAAAAAAAAAC4AAAAAAAAAAAAAAAAAAAAAAAAAAAAAAC4AAAAAAAAAAAAAAC4AAAAAAAAAAAAAAAAAAAAOAAAAAAAAAAAAAAAAAAAAAAAAAAAAAAAAAAAADgAAAAAAAAAAAAAAAAAAAAAAAAAAAAAADgAAAAAAAAAAAAAAAAAAAA4AAAAOAAAAAAAAAAAAAAAAAAAAAAAAAAAAAAAAAAAAAAAAAAAAAAAOAAAADgAAAA4AAAAAAAAAAAAAAC4AAAAAAAAAAAAAAAAAAAAuAAAALgAAAAAAAAAAAAAAAAAAAAAAAAAAAAAAAAAAAAAAAAAAAAAAAAAAAAAAAAAAAAAAAAAAAAAAAAAAAAAAAAAAAAAAAAAAAAAAAAAAAAAAAAAAAAAAAAAAAA4AAAAOAAAADgAAAAAAAAAuAAAAAAAAAAAAAAAAAAAAAAAAAAAAAAAAAAAADgAAAC4AAAAuAAAAAAAAAAAAAAAAAAAAAAAAAAAAAAAOAAAAAAAAAC4AAAAAAAAAAAAAAAAAAAAAAAAAAAAAAAAAAAAAAAAAAAAAAC4AAAAAAAAAAAAAAAAAAAAAAAAADgAAAAAAAAAAAAAAAAAAAAAAAAAAAAAALgAAAA4AAAAOAAAAAAAAAAAAAAAAAAAAAAAAAA4AAAAAAAAAAAAAAAAAAAAAAAAAAAAAAAAAAAAAAAAAAAAAAAAAAAAAAAAAAAAAAAAAAAAOAAAAAAAAAAAAAAAAAAAAAAAAAAAAAAAAAAAADgAAAAAAAAAAAAAAAAAAAAAAAAAAAAAAAAAAAAAAAAAAAAAAAAAAAAAAAAAOAAAAAAAAAC4AAAAAAAAAAAAAAAAAAAAAAAAALgAAAAAAAAAAAAAAAAAAAAAAAAAAAAAAAAAAAC4AAAAAAAAAAAAAAC4AAAAAAAAAAAAAAAAAAAAuAAAADgAAAAAAAAAAAAAAAAAAAAAAAAAAAAAAAAAAAAAAAAAAAAAAAAAAAAAAAAAAAAAAAAAAAAAAAAAuAAAAAAAAAC4AAAAAAAAAAAAAAAAAAAAAAAAAAAAAAAAAAAAAAAAAAAAAAAAAAAAOAAAAAAAAAAAAAAAAAAAAAAAAAAAAAAAAAAAAAAAAAAAAAAAAAAAAAAAAAAAAAAAOAAAAAAAAAAAAAAAAAAAAAAAAAAAAAAAAAAAAAAAAAAAAAAAAAAAALgAAAAAAAAAAAAAADgAAAAAAAAAAAAAAAAAAAAAAAAAAAAAAAAAAAAAAAAAOAAAAAAAAAAAAAAAAAAAAAAAAAAAAAAAAAAAALgAAAAAAAAAOAAAAAAAAAAAAAAAAAAAAAAAAAAAAAAAAAAAAAAAAAAAAAAAuAAAAAAAAAAAAAAAAAAAAAAAAAAAAAAAAAAAAAAAAAAAAAAAOAAAAAAAAAC4AAAAAAAAADgAAAAAAAAAAAAAALgAAAAAAAAAAAAAAAAAAAAAAAAAuAAAAAAAAAAAAAAAAAAAAAAAAAA4AAAAAAAAAAAAAAAAAAAAAAAAAAAAAAAAAAAAAAAAAAAAAAC4AAAAAAAAAAAAAAAAAAAAAAAAAAAAAAAAAAAAAAAAAAAAAAAAAAAAOAAAAAAAAAAAAAAAAAAAAAAAAAAAAAAAOAAAAAAAAAAAAAAAOAAAAAAAAAA4AAAAuAAAAAAAAAAAAAAAAAAAAAAAAAAAAAAAAAAAAAAAAAAAAAAAuAAAAAAAAAC4AAAAuAAAAAAAAAAAAAAAAAAAAAAAAAAAAAAAAAAAAAAAAAAAAAAAAAAAAAAAAAC4AAAAAAAAALgAAAAAAAAAAAAAAAAAAAAAAAAAAAAAAAAAAAC4AAAAAAAAAAAAAAAAAAAAAAAAAAAAAAAAAAAAAAAAAAAAAAAAAAAAAAAAAAAAAAAAAAAAAAAAAAAAAAAAAAAAAAAAAAAAAAA4AAAAOAAAAAAAAAC4AAAAAAAAAAAAAAAAAAAAAAAAAAAAAAAAAAAAAAAAAAAAAAAAAAAAAAAAAAAAAAAAAAAAAAAAAAAAAAAAAAAAAAAAADgAAAAAAAAAAAAAAAAAAAAAAAAAAAAAADgAAAAAAAAAAAAAAAAAAAAAAAAAAAAAAAAAAAAAAAAAuAAAALgAAAAAAAAAAAAAAAAAAAAAAAAAAAAAALgAAAC4AAAAAAAAAAAAAAAAAAAAuAAAADgAAAAAAAAAAAAAALgAAAAAAAAAAAAAAAAAAAAAAAAAAAAAAAAAAAAAAAAAAAAAAAAAAAAAAAAAAAAAAAAAAAAAAAAAAAAAAAAAAAAAAAAAOAAAAAAAAAAAAAAAuAAAAAAAAAAAAAAAAAAAAAAAAAAAAAAAAAAAADgAAAAAAAAAAAAAALgAAAC4AAAAAAAAAAAAAAAAAAAAAAAAALgAAAAAAAAAAAAAAAAAAAAAAAAAAAAAADgAAAAAAAAAAAAAADgAAAAAAAAAOAAAAAAAAAAAAAAAAAAAAAAAAAAAAAAAAAAAALgAAAAAAAAAAAAAAAAAAAAAAAAAAAAAAAAAAAA4AAAAAAAAAAAAAAAAAAAAAAAAAAAAAAAAAAAAuAAAALgAAAAAAAAAuAAAAAAAAAAAAAAAAAAAAAAAAAAAAAAAAAAAAAAAAAAAAAAAAAAAAAAAAAAAAAAAAAAAAAAAAAAAAAAAuAAAAAAAAAAAAAAAAAAAAAAAAAA4AAAAAAAAAAAAAAAAAAAAAAAAAAAAAAAAAAAAAAAAAAAAAAAAAAAAAAAAALgAAAA4AAAAuAAAAAAAAAAAAAAAAAAAAAAAAAAAAAAAAAAAAAAAAAAAAAAAOAAAAAAAAAA4AAAAAAAAAAAAAAAAAAAAOAAAALgAAAAAAAAAAAAAAAAAAAAAAAAAAAAAAAAAAAAAAAAAAAAAAAAAAAAAAAAAuAAAAAAAAAAAAAAAAAAAAAAAAAA4AAAAOAAAAAAAAAA4AAAAAAAAAAAAAAAAAAAAAAAAAAAAAAAAAAAAAAAAAAAAAAAAAAAAAAAAALgAAAC4AAAAuAAAALgAAAAAAAAAAAAAAAAAAAAAAAAAAAAAALgAAAAAAAAAAAAAAAAAAAAAAAAAAAAAALgAAAAAAAAAuAAAAAAAAAA4AAAAAAAAAAAAAAA4AAAAAAAAAAAAAAC4AAAAAAAAALgAAAAAAAAAAAAAAAAAAAC4AAAAAAAAADgAAAC4AAAAAAAAAAAAAAAAAAAAAAAAALgAAAAAAAAAOAAAAAAAAAC4AAAAOAAAADgAAAAAAAAAOAAAALgAAAAAAAAAAAAAADgAAAAAAAAAAAAAALgAAAA4AAAAAAAAAAAAAAA4AAAAAAAAAAAAAAAAAAAAAAAAADgAAAAAAAAAAAAAAAAAAAAAAAAAOAAAAAAAAAC4AAAAAAAAALgAAAAAAAAAOAAAAAAAAAA4AAAAuAAAAAAAAAA4AAAAAAAAAAAAAAAAAAAAAAAAAAAAAAC4AAAAAAAAAAAAAAAAAAAAAAAAAAAAAAAAAAAAAAAAAAAAAAAAAAAAAAAAALgAAAAAAAAAOAAAAAAAAAA4AAAAAAAAALgAAAAAAAAAAAAAADgAAAAAAAAAAAAAAAAAAAAAAAAAAAAAAAAAAAC4AAAAAAAAALgAAAAAAAAAAAAAAAAAAAAAAAAAAAAAAAAAAAAAAAAAOAAAAAAAAAA4AAAAAAAAAAAAAAAAAAAAAAAAAAAAAAC4AAAAAAAAAAAAAAAAAAAAAAAAAAAAAAC4AAAAAAAAAAAAAAAAAAAAAAAAAAAAAAAAAAAAOAAAAAAAAAAAAAAAAAAAAAAAAAA4AAAAAAAAAAAAAAAAAAAAAAAAAAAAAAAAAAAAAAAAAAAAAAAAAAAAuAAAAAAAAAA4AAAAAAAAAAAAAAAAAAAAAAAAAAAAAAAAAAAAAAAAAAAAAAAAAAAAAAAAAAAAAAAAAAAAAAAAAAAAAAAAAAAAuAAAADgAAAAAAAAAAAAAAAAAAAC4AAAAAAAAAAAAAAAAAAAAOAAAAAAAAAAAAAAAAAAAALgAAAAAAAAAAAAAAAAAAAAAAAAAOAAAADgAAAAAAAAAOAAAAAAAAAAAAAAAuAAAAAAAAAC4AAAAAAAAAAAAAAAAAAAAAAAAAAAAAAAAAAAAAAAAAAAAAAAAAAAAAAAAAAAAAAAAAAAAAAAAADgAAAAAAAAAAAAAAAAAAAAAAAAAAAAAAAAAAAAAAAAAAAAAAAAAAAAAAAAAAAAAAAAAAAAAAAAAAAAAAAAAAAAAAAAAAAAAAAAAAAA4AAAAAAAAAAAAAAAAAAAAOAAAAAAAAAAAAAAAAAAAAAAAAAAAAAAAAAAAAAAAAAAAAAAAOAAAADgAAAAAAAAAAAAAADgAAAAAAAAAAAAAAAAAAAAAAAAAAAAAADgAAAAAAAAAAAAAALgAAAA4AAAAAAAAALgAAAC4AAAAAAAAAAAAAAAAAAAAAAAAAAAAAAA4AAAAAAAAADgAAAAAAAAAAAAAAAAAAAA4AAAAAAAAALgAAAAAAAAAuAAAAAAAAAAAAAAAuAAAAAAAAAAAAAAAAAAAALgAAAAAAAAAAAAAAAAAAAAAAAAAAAAAAAAAAAAAAAAAAAAAADgAAAC4AAAAAAAAAAAAAAAAAAAAAAAAALgAAAAAAAAAAAAAAAAAAAAAAAAAAAAAADgAAAAAAAAAAAAAAAAAAAAAAAAAAAAAAAAAAAAAAAAAAAAAADgAAAA4AAAAAAAAAAAAAAAAAAAAAAAAAAAAAAAAAAAAAAAAAAAAAAAAAAAAOAAAAAAAAAC4AAAAAAAAAAAAAAAAAAAAAAAAAAAAAAAAAAAAAAAAAAAAAAAAAAAAAAAAADgAAAAAAAAAOAAAADgAAAA4AAAAAAAAAAAAAAAAAAAAAAAAAAAAAAAAAAAAAAAAAAAAAAAAAAAAAAAAAAAAAAAAAAAAuAAAAAAAAAAAAAAAAAAAALgAAAAAAAAAuAAAAAAAAAAAAAAAAAAAAAAAAAAAAAAAAAAAAAAAAAC4AAAAOAAAAAAAAAA4AAAAAAAAAAAAAAAAAAAAAAAAADgAAAA4AAAAAAAAALgAAAAAAAAAOAAAALgAAAAAAAAAAAAAAAAAAAAAAAAAAAAAAAAAAAAAAAAAAAAAAAAAAAAAAAAAAAAAAAAAAAAAAAAAOAAAALgAAAAAAAAAAAAAAAAAAAAAAAAAAAAAAAAAAAAAAAAAuAAAAAAAAAC4AAAAAAAAAAAAAAAAAAAAAAAAAAAAAAC4AAAAAAAAADgAAAAAAAAAAAAAAAAAAAA4AAAAAAAAAAAAAAAAAAAAAAAAAAAAAAAAAAAAAAAAAAAAAAAAAAAAAAAAAAAAAAAAAAAAAAAAAAAAAAA4AAAAAAAAADgAAAAAAAAAuAAAALgAAAC4AAAAAAAAAAAAAAAAAAAAAAAAAAAAAAAAAAAAAAAAALgAAAAAAAAAAAAAADgAAAC4AAAAAAAAADgAAAAAAAAAAAAAAAAAAAAAAAAAAAAAAAAAAAAAAAAAuAAAAAAAAAAAAAAAAAAAAAAAAAAAAAAAAAAAAAAAAAAAAAAAAAAAAAAAAAAAAAAAAAAAAAAAAAAAAAAAAAAAAAAAAAAAAAAAAAAAAAAAAAAAAAAAAAAAAAAAAAA4AAAAAAAAADgAAAAAAAAAAAAAAAAAAAA4AAAAAAAAAAAAAAC4AAAAOAAAAAAAAAC4AAAAAAAAAAAAAAC4AAAAAAAAAAAAAAAAAAAAAAAAALgAAAAAAAAAAAAAAAAAAAAAAAAAOAAAAAAAAAAAAAAAAAAAADgAAAAAAAAAAAAAADgAAAC4AAAAAAAAAAAAAAAAAAAAAAAAAAAAAAAAAAAAuAAAAAAAAAA4AAAAAAAAAAAAAAAAAAAAOAAAALgAAAAAAAAAAAAAAAAAAAC4AAAAAAAAAAAAAAAAAAAAuAAAAAAAAAA4AAAAAAAAALgAAAAAAAAAAAAAALgAAAC4AAAAAAAAAAAAAAAAAAAAAAAAALgAAAC4AAAAuAAAAAAAAAAAAAAAAAAAAAAAAAAAAAAAAAAAAAAAAAAAAAAAAAAAADgAAAAAAAAAuAAAAAAAAAA4AAAAAAAAADgAAAAAAAAAAAAAAAAAAAC4AAAAAAAAAAAAAAAAAAAAAAAAAAAAAAAAAAAAuAAAADgAAAAAAAAAAAAAAAAAAAAAAAAAOAAAAAAAAAAAAAAAAAAAALgAAAAAAAAAOAAAAAAAAAAAAAAAAAAAAAAAAAAAAAAAAAAAAAAAAAAAAAAAAAAAAAAAAAC4AAAAOAAAALgAAAAAAAAAOAAAAAAAAAAAAAAAAAAAAAAAAAAAAAAAAAAAAAAAAAAAAAAAAAAAAAAAAAAAAAAAAAAAAAAAAAAAAAAAAAAAADgAAAAAAAAAAAAAAAAAAAAAAAAAuAAAADgAAAAAAAAAAAAAAAAAAAAAAAAAAAAAAAAAAAAAAAAAAAAAAAAAAAAAAAAAAAAAAAAAAAC4AAAAAAAAAAAAAAAAAAAAuAAAAAAAAAAAAAAAOAAAADgAAAAAAAAAAAAAAAAAAAAAAAAAuAAAAAAAAAA4AAAAAAAAALgAAAAAAAAAAAAAAAAAAAAAAAAAuAAAAAAAAAAAAAAAAAAAAAAAAAAAAAAAuAAAALgAAAAAAAAAAAAAAAAAAAAAAAAAOAAAAAAAAAAAAAAAAAAAAAAAAAC4AAAAAAAAAAAAAAAAAAAAAAAAAAAAAAAAAAAAAAAAAAAAAAA4AAAAAAAAALgAAAAAAAAAAAAAALgAAAAAAAAAAAAAAAAAAAAAAAAAAAAAAAAAAAAAAAAAAAAAAAAAAAAAAAAAAAAAADgAAAAAAAAAAAAAAAAAAAAAAAAAuAAAALgAAAAAAAAAuAAAAAAAAAAAAAAAAAAAALgAAAAAAAAAAAAAAAAAAAAAAAAAOAAAADgAAAC4AAAAAAAAAAAAAAC4AAAAuAAAAAAAAAAAAAAAuAAAAAAAAAAAAAAAuAAAAAAAAAAAAAAAuAAAADgAAAC4AAAAAAAAAAAAAAC4AAAAAAAAAAAAAAAAAAAAAAAAAAAAAAAAAAAAAAAAADgAAAAAAAAAAAAAALgAAAA4AAAAOAAAAAAAAAAAAAAAAAAAAAAAAAAAAAAAAAAAAAAAAAAAAAAAAAAAADgAAAAAAAAAAAAAAAAAAAAAAAAAAAAAAAAAAAC4AAAAAAAAAAAAAAC4AAAAAAAAAAAAAAA4AAAAAAAAAAAAAAA4AAAAAAAAAAAAAAAAAAAAOAAAAAAAAAAAAAAAAAAAAAAAAAAAAAAAAAAAADgAAAC4AAAAAAAAAAAAAAAAAAAAOAAAAAAAAAC4AAAAAAAAAAAAAAAAAAAAAAAAAAAAAAC4AAAAAAAAAAAAAAAAAAAAAAAAADgAAAAAAAAAAAAAADgAAAAAAAAAAAAAAAAAAAA4AAAAAAAAAAAAAAAAAAAAAAAAAAAAAAA4AAAAAAAAAAAAAAAAAAAAAAAAAAAAAAAAAAAAAAAAADgAAAAAAAAAAAAAAAAAAAAAAAAAuAAAAAAAAAAAAAAAuAAAALgAAAAAAAAAuAAAAAAAAAAAAAAAAAAAADgAAAA4AAAAAAAAAAAAAAAAAAAAuAAAADgAAAAAAAAAAAAAAAAAAAAAAAAAOAAAAAAAAAA4AAAAAAAAAAAAAAA4AAAAOAAAAAAAAAAAAAAAAAAAAAAAAAAAAAAAuAAAAAAAAAAAAAAAAAAAALgAAAAAAAAAAAAAADgAAAAAAAAAAAAAAAAAAAAAAAAAOAAAAAAAAAA4AAAAAAAAAAAAAAAAAAAAAAAAALgAAAAAAAAAAAAAAAAAAAAAAAAAAAAAALgAAAAAAAAAAAAAAAAAAAA4AAAAOAAAAAAAAAAAAAAAuAAAAAAAAAAAAAAAOAAAAAAAAAAAAAAAuAAAADgAAAAAAAAAAAAAAAAAAAAAAAAAuAAAAAAAAAAAAAAAAAAAAAAAAAAAAAAAAAAAAAAAAAAAAAAAAAAAAAAAAAAAAAAAOAAAAAAAAAAAAAAAAAAAALgAAAAAAAAAOAAAAAAAAAAAAAAAOAAAALgAAAAAAAAAuAAAALgAAAAAAAAAAAAAAAAAAAAAAAAAAAAAAAAAAAAAAAAAAAAAALgAAAAAAAAAuAAAADgAAAAAAAAAOAAAADgAAAAAAAAAAAAAAAAAAAAAAAAAAAAAAAAAAAAAAAAAAAAAAAAAAAAAAAAAAAAAAAAAAAAAAAAAAAAAADgAAAAAAAAAuAAAAAAAAAAAAAAAAAAAAAAAAAAAAAAAAAAAALgAAAAAAAAAAAAAALgAAAAAAAAAAAAAAAAAAAAAAAAAAAAAAAAAAAAAAAAAOAAAADgAAAAAAAAAAAAAAAAAAAAAAAAAAAAAAAAAAAAAAAAAuAAAAAAAAAAAAAAAAAAAAAAAAAAAAAAAAAAAALgAAAC4AAAAAAAAAAAAAAAAAAAAAAAAAAAAAAA4AAAAAAAAADgAAAC4AAAAAAAAAAAAAAC4AAAAAAAAAAAAAAAAAAAAOAAAAAAAAAAAAAAAAAAAAAAAAAAAAAAAAAAAAAAAAAA4AAAAAAAAADgAAAAAAAAAAAAAAAAAAAC4AAAAuAAAAAAAAAAAAAAAAAAAAAAAAAA4AAAAAAAAALgAAAAAAAAAAAAAAAAAAAAAAAAAOAAAAAAAAAC4AAAAAAAAAAAAAAAAAAAAAAAAAAAAAAA4AAAAAAAAAAAAAAAAAAAAAAAAAAAAAAAAAAAAAAAAAAAAAAAAAAAAAAAAADgAAAAAAAAAAAAAAAAAAAAAAAAAAAAAAAAAAAAAAAAAAAAAAAAAAAAAAAAAAAAAAAAAAAAAAAAAuAAAALgAAAAAAAAAAAAAAAAAAAAAAAAAAAAAAAAAAAC4AAAAAAAAAAAAAAC4AAAAAAAAAAAAAAAAAAAAAAAAAAAAAAAAAAAAAAAAAAAAAAAAAAAAAAAAAAAAAAAAAAAAAAAAAAAAAAAAAAAAAAAAAAAAAAC4AAAAAAAAAAAAAAA4AAAAAAAAAAAAAAC4AAAAOAAAAAAAAAAAAAAAAAAAAAAAAAAAAAAAAAAAAAAAAAAAAAAAAAAAAAAAAAC4AAAAOAAAAAAAAAAAAAAAuAAAAAAAAAAAAAAAAAAAADgAAAAAAAAAuAAAAAAAAAAAAAAAAAAAAAAAAAAAAAAAAAAAAAAAAAA4AAAAuAAAAAAAAAC4AAAAAAAAALgAAAC4AAAAAAAAAAAAAAAAAAAAOAAAAAAAAAAAAAAAAAAAAAAAAAAAAAAAOAAAAAAAAAC4AAAAuAAAAAAAAAAAAAAAAAAAAAAAAAAAAAAAAAAAAAAAAAC4AAAAAAAAALgAAAAAAAAAOAAAAAAAAAAAAAAAAAAAAAAAAAA4AAAAAAAAAAAAAAAAAAAAAAAAAAAAAAC4AAAAuAAAAAAAAAAAAAAAAAAAAAAAAAC4AAAAAAAAADgAAAAAAAAAOAAAAAAAAAAAAAAAAAAAAAAAAAC4AAAAAAAAAAAAAAAAAAAAuAAAAAAAAAAAAAAAAAAAAAAAAAAAAAAAAAAAAAAAAAAAAAAAuAAAAAAAAAAAAAAAAAAAADgAAAAAAAAAOAAAAAAAAAC4AAAAAAAAADgAAAAAAAAAAAAAALgAAAAAAAAAAAAAAAAAAAAAAAAAAAAAAAAAAAA4AAAAAAAAADgAAAAAAAAAAAAAAAAAAAAAAAAAAAAAADgAAAAAAAAAOAAAAAAAAAAAAAAAAAAAADgAAAAAAAAAAAAAAAAAAAAAAAAAAAAAALgAAAAAAAAAAAAAAAAAAAAAAAAAAAAAAAAAAAAAAAAAAAAAAAAAAAC4AAAAAAAAAAAAAAAAAAAAAAAAAAAAAAAAAAAAAAAAAAAAAAAAAAAAAAAAADgAAAAAAAAAOAAAAAAAAAAAAAAAOAAAAAAAAAAAAAAAOAAAAAAAAAAAAAAAOAAAAAAAAAAAAAAAOAAAAAAAAAAAAAAAAAAAAAAAAAAAAAAAAAAAAAAAAAAAAAAAAAAAAAAAAAAAAAAAOAAAAAAAAAAAAAAAuAAAAAAAAAAAAAAAuAAAAAAAAAC4AAAAAAAAAAAAAAA4AAAAOAAAAAAAAAAAAAAAAAAAALgAAAAAAAAAAAAAAAAAAAAAAAAAAAAAAAAAAAA4AAAAAAAAAAAAAAC4AAAAAAAAAAAAAAAAAAAAAAAAALgAAAAAAAAAOAAAAAAAAAAAAAAAAAAAAAAAAAAAAAAAuAAAAAAAAAAAAAAAAAAAAAAAAAAAAAAAAAAAAAAAAAA4AAAAAAAAAAAAAAAAAAAAAAAAAAAAAAC4AAAAAAAAAAAAAAAAAAAAAAAAAAAAAAA4AAAAAAAAAAAAAAAAAAAAAAAAAAAAAAAAAAAAAAAAADgAAAAAAAAAuAAAAAAAAAC4AAAAOAAAAAAAAAAAAAAAAAAAAAAAAAC4AAAAAAAAALgAAAAAAAAAAAAAAAAAAAAAAAAAuAAAADgAAAAAAAAAAAAAAAAAAAA4AAAAAAAAALgAAAAAAAAAOAAAADgAAAAAAAAAuAAAAAAAAAAAAAAAAAAAAAAAAAAAAAAAAAAAAAAAAAAAAAAAuAAAAAAAAAAAAAAAAAAAAAAAAAA4AAAAuAAAAAAAAAAAAAAAuAAAAAAAAAAAAAAAAAAAAAAAAAAAAAAAOAAAADgAAAAAAAAAAAAAAAAAAAC4AAAAuAAAAAAAAAAAAAAAAAAAADgAAAAAAAAAAAAAAAAAAAAAAAAAAAAAAAAAAAA4AAAAAAAAAAAAAAC4AAAAAAAAAAAAAAA4AAAAAAAAAAAAAAAAAAAAAAAAAAAAAAA4AAAAAAAAAAAAAAC4AAAAAAAAAAAAAAAAAAAAAAAAAAAAAAAAAAAAAAAAAAAAAAA4AAAAAAAAAAAAAAAAAAAAAAAAAAAAAAAAAAAAAAAAAAAAAAA4AAAAAAAAAAAAAAAAAAAAAAAAAAAAAAAAAAAAuAAAAAAAAAAAAAAAAAAAAAAAAAA4AAAAAAAAAAAAAAA4AAAAAAAAAAAAAAAAAAAAOAAAALgAAAAAAAAAuAAAAAAAAAAAAAAAAAAAADgAAAAAAAAAAAAAAAAAAAAAAAAAAAAAAAAAAAA4AAAAAAAAAAAAAAAAAAAAAAAAAAAAAAAAAAAAAAAAAAAAAAAAAAAAuAAAAAAAAAAAAAAAAAAAADgAAAAAAAAAAAAAAAAAAAA4AAAAAAAAAAAAAAAAAAAAAAAAAAAAAAAAAAAAAAAAAAAAAAAAAAAAAAAAADgAAAAAAAAAOAAAAAAAAAC4AAAAAAAAAAAAAAC4AAAAAAAAAAAAAAAAAAAAuAAAAAAAAAAAAAAAAAAAALgAAAAAAAAAuAAAADgAAAC4AAAAOAAAAAAAAAAAAAAAAAAAAAAAAAAAAAAAOAAAAAAAAAAAAAAAAAAAgDgAAIA4AAAAAAAAALgAAAC4AAAAOAAAgDgAAIA4AABAOQAAALgAAJC5AACQuQAAwLgAAAC4AAAguQAAQLkAAEC6AADkugAA7LoAAIS6AACcugAAArsAAOy6AAAAuwAALrsAABC7AADAugAA0LoAACa7AAA0uwAATLsAAIy7AACTuwAAQLsAAB67AABguwAAtrsAAOq7AADUuwAAyLsAANi7AAACvAAAD7wAgAW8AADvuwAA5LsAAP67AAAMvAAAwbsAAGq7AAByuwAAm7sAAJG7AAC1uwAA2rsAAKi7AACyuwAA6LsAgBm8AAArvAAAKrwAAEC8AABLvAAAULwAAEC8AAD8uwAAmLsAAIi7AACougAA8DkAAKi6AABwOgAAyzsAAAA8AADEOwAAtjsAAOg7AAAUPACABDwAAMo7AACyOwAA/DsAAD48AAAYPAAAlzsAAJE7AAC8OwCAADwAABQ8AIAvPACAJjwAANA7AACUOwAAGTwAAG48AAA3PACANTwAgI48AMCcPACAGTwAALI7AIAhPACABDwAAFQ7AACPOwAA6zsAALw7AACtOwAA4zsAAM47AAD8OwCAKzwAAE08AABJPACANjwAAFY8AAB9PAAAgzwAAIg8AECfPACAojwAQJc8AMCEPACAZjwAADk8AAA0PACARjwAgDY8AAAaPAAAsjsAAN87AAD+OwAA+TsAAPU7AAAJPAAAITwAAE08AACKPACAdTwAgGQ8AAB/PACAdzwAgAM8AACgOwAA6TsAgAE8AIAEPAAAmTsAAPA6AACAOAAAjDoAAHg7AABGOwAAfjsAAB47AAAquwAAAbwAACO8AIAjvAAA/LsAAJ67AIAOvACAebwAQJO8AACFvABAg7wAwJS8AECivAAArbwAgJ28AACWvABAtbwAgMq8AIDlvABA77wAgNm8AADJvADA0rwAAOK8AADQvAAAqrwAQI28AECCvADAlrwAwJW8AIBvvACAYLwAAHK8AIBsvAAASLwAAES8AIBYvACAi7wAAHC8AAA+vACAfLwAAJ28AECXvACAY7wAgD68AIALvAAA1LsAALK7AAAguwAAEDoAAFi6AACruwAAnrsAAM67AAAJvACAAbwAAB+8AAAbvAAAzLsAAKe7AACcuwAA9rsAABO8AAAiuwAA+TsAAA88AADcOgAAiDsAAGI8AACGPACAfDwAgIQ8AIBtPACAKjwAABI8AAAxPAAAODwAgCw8AIAWPAAAGzwAAA48AIAvPAAASTwAgBU8AAAMPAAAGTwAgAo8AAASPACAIjwAgAI8AADGOwCAAzwAgCM8AAD6OwAAJDsAAMA6AAC+OwAA3TsAAK07AADYOwAAOzwAAFQ8AIBNPAAATzwAgGI8AAAwPAAAlTsAAAC6AADAOgAA6jsAAN47AAC9OwAATjsAAEA6AAA0uwAAMLoAANM7AIA0PACAUTwAgBY8AAAkPACAQzwAgGU8AACGPACAcjwAAF48AAA9PAAATTwAAHo8AABOPACAGjwAgAk8AABFPACAWTwAABU8AIAQPACALjwAACM8AADVOwAAKjsAAFA7AADOOwAAtDsAAIs7AAD8OgAA7DoAADg7AADYOgAABjsAAIw6AADAuAAAPLsAANS6AACTOwCAKTwAgCU8AAD8OgAAuLsAAOC7AAC0uwAAqbsAAKq7AADXuwAA5rsAgAC8AADRuwAAprsAAAq8AIApvAAA3bsAAMy6AAA6uwAAwbsAgCS8AABavAAATbwAgBm8AACDuwAAnbsAABK8AIBUvAAAWLwAgDK8AAAVvACAHLwAgB68AIA0vAAAqbwAwIm8AAD/uwAAkLwAwMa8AMCgvAAAjLwAwNq8AKACvQDAhbwAAOu7AAC9vABgEr0AQNa8AIA1vAAATbwAwMW8AMC5vACAbLwAwIC8AACSvAAAf7wAAKO8AMDmvAAA0LwAgHa8AIBYvAAAo7wAwLi8AAB2vAAAG7wAACi8AIBavAAAUrwAABO8AAAIvAAAELwAAEG8AIBZvACAabwAAGG8AIA5vAAAzbsAACq7AACHuwAAWLoAAMQ6AABAugAAFLsAACg7AADzOwAA9TsAALk7AAC4OwAAFTwAADk8AAAsPAAAOTwAAIY8AICxPAAAsjwAwIA8AIB5PAAAsjwAAMU8AACfPAAAaDwAgGo8AECNPABAhjwAAD88AIBFPAAApDwAwNM8AMCtPABAjDwAAKI8AIDAPAAA0DwAAMs8AMDnPABgAj0AgP08AADlPADAtTwAQKc8AEC2PACArzwAAGg8AAD1OwAA5zsAAPw7AIAgPAAAMzwAABw8AIAUPAAAAzwAAN07AAC8OwAA8TsAgCw8AIAsPAAARDwAAH88AICrPADAtTwAQI08AABiPACAWjwAgCY8AADcOwAA+DsAgEo8AIA3PAAA0zsAgBk8AICYPABApzwAgIY8AABdPACAhDwAAKc8AMCIPAAAaTwAAI88AMCJPAAA+TsAAJg6AACYOgAAILkAAFy7AADcuwCAS7wAwJ28AMCMvACAabwAwIu8AMCVvAAAprwAgMS8AEDMvADAtLwAwIm8AIAfvAAADbwAAGi8AABvvACAVLwAgDS8AIAOvAAAjbsAAFa7AAB2uwAAoLsAgDG8AAAVvAAAibsAAKO7AABQvACAabwAgEq8AIANvACAH7wAAAu8AACnuwAA2rsAAP27AIAlvAAA4bsAAOC6AAAdvAAAgbwAgCu8AADUugAAmbsAAD68AIBovAAAcrwAAJa8AMChvACAbrwAAI+8AIDBvABA37wAgMu8AECuvABAm7wAQJS8AIB+vAAAOrwAgDW8AIA5vACALLwAAEa8AIBnvAAALrwAAKS7AAAMuwAA8LoAAHa7AADauwAA0bsAgBe8AMCEvACAnLwAgIq8AIBRvAAASbwAAHq8AABwvAAA/rsAAIa7AADTuwCAJLwAAGy7AACLOwAAejsAAMA5AABAOwAAOjwAABo8AACwuQAAADsAAPU7AAAgOwAALLsAAGg6AACYOwAApDsAAIU7AADWOwAAQTwAAE48AIAPPACALDwAgIo8AACuPAAArzwAwKY8AMDIPACA4jwAAOA8AICpPADAozwAANA8AADkPAAA0DwAwLk8AECkPADAjTwAAKo8AIDIPADAyDwAALM8AEDJPABA4jwAAOE8AMDYPAAAsTwAQKQ8AAC7PABAvzwAwMA8AAC+PAAApDwAAI08AAA3PAAAuzsAAK87AADVOwAA3TsAAAA8AIAiPAAAuDsAAEy7AAAYvAAABbwAAKK7AAC7uwAAKbwAACi8AACquwAA4LoAAL67AIBEvAAAWbwAgEe8AIBTvAAAXLwAAFe8AABkvACAILwAAOC7AAAovAAAFrwAAKC7AACFuwAAy7sAAMW7AACzuwAAp7sAABC7AACPuwAACbwAAOC7AAB8uwAA2LoAAIe7AACLuwAASLoAAOy6AAA4ugAAMrsAAPC6AAAauwAAkLsAAOq7AAAYvAAAKLwAAAa8AADAuwCAMbwAAEO8AAA9vAAA27sAAK67AAA3vAAAPLwAAKy7AAAwOwAA+LoAgE+8AIBevAAAM7wAgAG8AACiuwAAKLsAAEq7AADQuwAADrwAAOy7AACZuwAAg7sAAF67AACeuwAAVrsAAOw6AAAIugCABbwAgC28AACwuwAAxbsAgIe8AICTvADAi7wAAKO8AAC1vAAAw7wAALC8AACyvABAzLwAQM+8AADYvABA27wAgLS8AAB4vAAASrwAAEu8AAD6uwAAkLoAAKQ6AAA+uwAAh7sAAEi7AAAAuQAAiLsAgCW8AAC3uwAAbDsAAJE7AAB8OwAAxTsAAFY7AABgOgAAQDkAAJw6AAAqOwAAsjsAgDI8AAA2PAAAKzwAACs8AIAVPAAAtTsAACo7AAA6OwAAIjsAABQ8AABAPAAAJjwAAAM8AAAlPAAAJzwAADk8AMCdPADAwzwAgLs8AMC5PAAAujwAAJI8AIBFPAAAGzwAAEU8AABWPACAFjwAAPg6AACwOgAAbjsAAJA6AAC8OgAAiDsAgAc8AAAsPAAA+jsAgBM8AAAuPAAAYDwAgIc8AACyPACA2TwAgOc8AIDXPABAxDwAgMM8AACuPADAhDwAgEk8AIAfPAAA0zsAAEA7AAAquwAA3rsAgBW8AAD+uwAAibsAADa7AABQuwAA0LoAALQ6AACgOgAAsDkAALc7AIBWPACAYzwAAC08AAAIPAAACTwAAOs7AAA0OwAAlLoAAAq7AABmuwAAtbsAAOm7AAB8uwAAOLoAAMO7AAA3vAAAHrwAACK7AACWOwAABDwAgDw8AICMPABAnzwAwJs8AECrPADAyzwAwMI8AMCfPABAoTwAgKY8AABkPAAAaDsAAAa7AAAsuwAAlLoAAFC7AACEuwAAcrsAgBu8AADvuwAAOLsAAIy7AACIuwAAALsAAAY7AAAYOwAAQDkAADC7AADuuwAA5rsAgBC8AABsvAAAerwAQIC8AECIvADAh7wAAIC8AMCUvACAubwAQN68AADlvACAvrwAAH68AABWvAAAaLwAgHO8AABfvAAANrwAAGu8AACnvABAxLwAgMC8AADMvACAt7wAgK68AMCxvABAr7wAwL+8AICkvACAe7wAgGG8AAAXvAAAWLsAAAA4AACguwAA1bsAAPi6AAAMuwAAwbsAACm8AAC/uwAAvbsAgB68AIAvvAAAxrsAAGS7AADNuwAAGrwAABC8AACWuwAAn7sAAL67AABEuwAA3DoAAAi6AADXuwAAhbsAANg6AADkOgAAkLkAAGA7AACuOwAA2jsAgA08AIBePACAsDwAgLE8AAB2PAAAFjwAgHY8AECcPAAAYDwAACc8AAA2PACABDwAAME7AAAqPAAAODwAANM7AACwugAAoLsAACK7AAA6OwAAljsAAAI7AAB6OwAA1DsAAJM7AADAOAAA/LoAAAg6AADhOwCALDwAAK07AACrOwCAFTwAgCQ8AIA3PAAAUTwAgIA8AABzPACAQjwAAAI8AAB4OwAAYDsAgBA8AMCfPADAvjwAwI48AAAsPACAJzwAgGs8AIBWPACAPjwAAJk8AMDNPACA2DwAQMA8AECtPABA0DwAQOY8AADLPADApzwAQKw8AIC6PAAAdTwAAMQ7AACROwAAhTsAAMQ6AACIOwAAqTsAALg7AADwOwAAcjsAAKS6AAADvAAADLwAAO67AABsuwAAxLsAgDa8AIANvAAAoLsAADy7AADjuwAAR7wAgF68AIBIvACAI7wAgC68AABIvACAQLwAgGW8AMCtvACApLwAgHS8AABIvAAAUbwAAKC8AICtvAAAt7wAQK28AADIvADA27wAgK28AICtvABA2LwAgOy8AIDavADA2rwAQPa8AEAVvQDAFr0AAN+8AIC8vACA8rwAwAC9AADuvACA87wAwPW8AEDDvAAAhLwAAHq8AIBtvABAoLwAQOK8AMDcvACA3bwAgMG8AMC2vABAm7wAwIK8AIBgvACAYbwAAGu8AAAavAAArrsAAFi7AABWuwAAnjsAgAg8AADtOwAA9jsAAFs8AACsPABApjwAgH08AABiPAAAKjwAgEY8AIBoPAAAVzwAwIM8AIBoPAAA1jsAgAo8AAA4PAAAnDsAAOi6AAAouwAAHjsAAMA5AAAwOgAANDsAAJw6AACMugAAWLoAAKE7AAAfPACAHzwAAPg7AAAsPABAiDwAAGw8AABoPACAfDwAgJI8AAC5PAAA4TwAQAM9AMD0PABA3DwAANo8AMDnPABAAD0AAO88AIC7PAAAlDwAAGU8AABYPAAAfTwAAIs8AABUPAAAUTwAAE48AIATPAAAnDsAANI7AIBEPADAhjwAAKc8AACDPAAAnzwAwMY8AEC5PADAwTwAwMc8AEC+PAAAiTwAAKo7AAB2OwAAIDwAAF88AABGPACABzwAgAQ8AABqPACAeTwAgAs8AIAAPAAA/TsAABU8AAA8PAAAIzwAgBU8AADsOwCAJzwAQI88AACNPACAdTwAgDg8AADGOwAAYjsAAKw7AAAFPAAAKjwAABM8AACoOgAASDoAAAA8AIANPAAAWDoAADS7AACgugAAILkAAI27AIAfvAAA4bsAAOy6AACnuwAATbwAQIq8AMCFvABAjLwAgJq8AADKvADAybwAAJu8AACpvABAwrwAwMK8AECvvACA17wAQAG9AEAUvQBgHb0AgAW9AEDuvAAA37wAwO+8AMDyvACA7LwAAPq8AAAOvQCAEb0AQO+8AEDBvACAh7wAgHS8AABvvAAANrwAAIO7AAA4uwAA8rsAACO8AADjuwAA+LoAADy7AADnuwAAm7sAAKA6AAD0ugAAx7sAgCK8AAD8uwCAC7wAACy8AACluwAAmLoAACi7AACIuwAALLsAAGS7AADauwAAArwAAIO7AAAeuwAAvLoAAEI7AAC1OwAA0TsAAKA7AADROwAA6TsAANA7AACZOwAAbjsAAOc7AAAGPAAAlTsAAOy6AACsugAAOjsAgBU8AABVPAAAJTwAAMs7AADgOwAAUjwAgKg8AIDKPADAyzwAwMk8AACdPACAYjwAAGY8AIBYPAAAFjwAgAo8AIAFPAAAfjsAAFA7AAAHPAAAKTwAgFg8AACXPACAizwAgEw8AIBXPADAgTwAgJc8AMClPAAAnTwAALQ8AIDAPABArjwAgII8AMCaPAAAgzwAAPY7AADROwAA4DsAAPg7AAAiOwCAUjwAgKo8AABaPAAAKDwAgH48AECYPAAAXDwAgAM8AADVOwAA9jsAALI7AACAOwAAQDoAAMy6AACQOgAAjzsAAEA7AACkugAABrsAAGy7AADvuwAAKLwAABO8AAAcvAAAMLwAABq8AAAfvACAEbwAgA68AIBrvABAlLwAgI68AECPvADArLwAQOe8AIAHvQBA+rwAgOS8AIDzvACA8bwAANa8AMC+vABAprwAQIi8AIBovACAELwAAP27AADvuwAAnDoAgAs8AABOOwAA4LkAAJk7AIAIPAAA8TsAACk8AABhPACATTwAgAg8AAAgOwAADLsAAIW7AACMugAAbrsAACS8AADIuwAAkDkAABi6AAAIuwAAZLsAgAW8AIAcvAAAxLsAAK27AACBuwAAALsAAIi7AADfuwAA17sAAOi7AACwuwAAoLsAAEC8AECUvAAAqrwAQLK8AADzvABgFb0AIBq9ACANvQCA8bwAgMm8AICCvACAdLwAgFi8AACyuwAALLsAAMG7AAChuwAAuLoAAPg6AABGuwAAALwAAKy6AABwugAAhrsAAKm7AADYugAAt7sAAA28AADmuwAAxLsAADg7AIAAPACACDwAAEU8AABUPAAANDwAgCA8AMCBPACAljwAAGY8AACAPACAezwAgE08AABxPACAkDwAgI88AMCPPACAnTwAALI8AMCrPAAAiDwAQIw8AMCpPACAoDwAAK08AMC8PABAqjwAgJI8AIB/PAAAhzwAQJI8AECUPACAqTwAgM48AID8PAAA7DwAALg8AAChPAAAYDwAAEc8AABiPABAjDwAQJY8AIBPPAAA2jsAAJc7AACoOwAA1DoAAKG7AADMuwAAbrsAAI27AADnuwAAEbwAAA28AAAivAAA77sAAAG8AAAzvACARLwAgA28AADauwCABrwAgDq8AIBjvACAVrwAgEe8AADhuwAAw7sAAKu7AADsugAA0LoAAL+7AIA0vAAATbwAgES8AADnuwAAALkAAJ47AIAKPACAfzwAgK48AADCPADA1zwAwN88AMDyPADA9jwAoAU9ACAOPQAgBz0AAPc8AMD9PADA+jwAwN48AMDgPADA7DwAwKg8AIBCPACAQzwAgD08AAAUPAAAsjsAAJM7AADjOwAAETwAAKM7AAC8OgAAFjsAAB47AADQOgAAgDgAAO27AMCIvAAAiLwAAHK8AACDvABAqrwAQJq8AICkvABAs7wAQJy8AECRvAAAn7wAAJm8AABLvAAA9bsAgBm8AABDvAAAU7wAALO7AABwOwAAkzsAAAg7AADcugAAzDoAAPw6AAAAuwAAMLwAgJ68AACTvABAkbwAwKe8AAChvACAsbwAwMO8AMDIvAAAorwAQJC8AECNvAAAF7wAABK7AAAkOwAAILoAACS7AAB4OgAAOrsAAJC7AAD8ugAAOLoAAJS6AACuuwCAIbwAAFq8AAB2vADAjbwAgIO8AIB5vACAgLwAAIy8AICGvAAAQ7wAAEC8AMCWvABAv7wAgKm8AEChvADAwLwAwNG8AEC1vADAkrwAgGC8AIArvACAYrwAwJm8AAC0vADAw7wAwNe8AIDhvACA2rwAgNC8AMDAvAAAr7wAwKe8AECNvAAAH7wAAOm7AAByuwAAEDsAALU7AADsOwCACTwAgCI8AIAdPACAIzwAgBI8AIAMPAAATDwAABo8AAAAPACATzwAgFU8AABQPABAmjwAQMg8AADmPABA/TwAgBA9AOAsPQAgOT0AYD89AEBDPQBgLz0AYCA9AEANPQDAAj0A4BI9AMARPQCABj0AgP48AOAFPQDADz0AoBA9AID2PADA0TwAwPk8AAANPQAgGD0AgA09AID2PABABT0AIB89AOAuPQAgJD0AQAI9AMDmPACA6jwAAAQ9AMAOPQAAAD0AwOw8AIDJPAAAkTwAQJI8AMCmPADAxTwAALI8AECZPABAmTwAQJg8AACFPACABjwAAAY7AACPuwAA8LsAACa7AACUOgAAxLoAAIK7AADsugAAoLkAAFC6AAAwugAACjsAAAA6AAAYOgAArDoAAKw6AAAoOgAArbsAAOm7AAC4uwAA+7sAgI68AMDkvABAA70AwAe9AKATvQBgB70AoAy9AAAcvQDgLb0AYDO9AAAZvQAADr0AAA+9AAAVvQCAFL0AoAi9AMDZvABAurwAANC8AADrvABA6bwAAOS8AID9vAAgGL0A4DW9AMBAvQCAQL0AAEW9AGA8vQBgJr0AIBm9AKAZvQDAD70AQAO9AAAAvQBA4bwAAMG8AMC3vABAx7wAwJy8AIBBvAAA+7sAABG8AIA7vAAAarwAwKi8AECvvAAAgLwAgEe8AABxvACAobwAwKW8AEC0vADAtrwAAG+8AAA+vAAAGbwAABA6AIAXPACAEzwAAHA8AACmPADAhDwAADA8AADEOwAA8LkAAPC5AAAiuwAAkbsAADS7AACcugAAgLsAABm8AIAqvAAA4bsAAOC6AADAOAAAzTsAAG88AECHPACAaTwAAB08AAAGPACAAjwAAP07AAC5OwAA0DkAAAA6AAAAOAAAoDoAAJg6AAAEOwAAJDsAAAC4AACoOgAAkDsAAFg7AADAOQAAujsAgHw8AACcPACAVjwAgBE8AADFOwAA8DsAACg8AIAWPAAAEDsAAGy7AABguwAAQrsAAMS6AACwugAAjLoAAHC7AAD/uwCABLwAAHC7AACuOwAA8zsAALk7AAATPACAhTwAgL48AMC+PAAAvzwAgMM8AMDJPABA0jwAANk8AEDuPADA6DwAwOY8AMDiPADA3DwAAMw8AIC1PABAqjwAwJA8AAB/PADAgzwAgEk8AAAGPACASDwAgJ08AMCVPACAXjwAgFo8AIBQPAAAXzwAAHg8AACEPACAWjwAAEU8AECDPADAiDwAADI8AADrOwAApjsAAAo8AAD/OwAA6jsAAL47AAAkOwAAljsAADg6AACeuwAAm7sAANS7AIBSvAAAiLwAwJe8AMCCvACAjbwAAJG8AACIvACAdLwAgE68AAA1vAAA97sAAN67AIAGvACAMbwAgFi8AIB4vACAf7wAgDS8AAAtvAAA/rsAgBS8AIA2vAAADbwAAA28AAAdvAAAPbwAAPO7AACmuwAAMrsAAO+7AABVvADAgbwAgG68AAAevACAWLwAAE28AACsuwAAPrsAAOi7AABGvACAULwAgGu8AICRvACAr7wAgLK8AMCmvABAmrwAwI+8AECLvAAAPbwAALW7AACWuwAAirsAADi7AACUuwAAnLsAAPA5AADgOgAAMLoAALK7AAD6uwAA2LsAAHq7AAC0uwAAd7wAgJ28AMCGvAAAa7wAgE28AECAvACAtLwAgLC8AECVvAAATLwAgAa8AAD4uwAAE7wAgAy8AAAUuwAArLoAAKA5AABqOwAAoDsAAMY7AAAEOwAAELsAAHA6AABcOwAA1jsAgA48AIAuPAAAQjwAAPA7AACjOwCAEzwAAI08AMCSPABAsTwAwMU8AEC0PADAxjwAAM08AIDhPAAArzwAwLA8AEC+PAAAezwAgEY8AIBrPAAAnDwAAKU8AADKPADgDz0AIB89AMAVPQBgET0AwCI9AKAyPQAgND0AYCc9AEATPQAgIj0AwDw9AGBBPQBgKT0AwAI9AMDzPABABD0AQMk8AICBPADAhDwAgLo8AIDEPADAkDwAAGg8AAB9PAAAbTwAgDo8AAAoPAAAdzwAgGo8AAAbPACAAzwAAAY8AAAGPAAAfDsAACA6AAAauwAApDoAAFo7AACIOwAAmTsAAOw6AAB8OwAAejsAAG47AADIOgAA8DkAALy7AAAQvAAA7bsAAMS7AACRuwCAFbwAAOK7AAB+uwAAgLsAAPy7AAA4vACAYrwAgH68AAB3vACAgrwAgHq8AECFvABAp7wAgNe8AADEvABAlrwAQIO8AECCvAAAYrwAAEy8AIA6vAAAZrwAgHq8AAB9vAAAkLwAAJK8AMCxvAAA1rwAgNy8AID2vACAC70AQPy8AADOvADArbwAANW8AAD2vADgCb0AIAa9AIDavACAw7wAAKm8AMCDvACAULwAAEu8AAB0vAAAc7wAAE28AABwvABAp7wAgKu8AACWvABAmbwAQMm8AADRvABAoLwAwJu8AEC6vADArLwAgJy8AMC5vAAA2LwAgLO8AICFvADAh7wAQIG8AIAcvAAA/LoAAOi6AADouwCAC7wAgEe8AIAzvAAAybsAAHq7AADwOQAAmTsAgBs8AIAIPACAADwAABY8AIA4PAAAODwAgDQ8AAByPACATDwAgFQ8AAB2PAAAkzwAALM8AICTPACAgTwAQJY8AACEPACAZjwAAFg8AIBrPAAAhzwAgE08AADpOwCAKjwAgFo8AIBnPAAAXzwAANo7AAC1OwAA3jsAALE7AAC3OwAAuzsAAJA6AABoOwCAATwAAKI7AABWOwAApDoAAIu7AADSuwAAELsAAMk7AIAVPAAAHTwAQIk8AACQPADAhTwAgFM8AABDPACAdDwAgIk8AACzPAAA0DwAgMs8AECUPAAAYjwAgEg8AABVPAAATjwAABE8AAA2PAAAOjwAANs7AAAOOwAAyLsAgD28AIAOvAAA9rsAgAe8AACsuwAAcrsAAMW7AADAuwCAGbwAgHy8AAB+vACAYLwAAFO8AAC/uwAAKLoAAOO7AIAuvACAcLwAgH68AIBCvACANLwAAKe7AACEOgAAWDsAAL47AAD7OwAAsDsAAKA5AAAgOgAAdDsAAB47AADAugAAs7sAgAG8AIAMvAAA4LsAgAa8AIBWvACALbwAABC8AADquwAAy7sAgAi8AIAdvACAPLwAAOa7AADYugAAqbsAACy7AACbOwAA7jsAAN47AACROwAAyzsAAIC5AADluwAAvbsAAOa7AADZuwAA77sAACK8AIAZvACAKbwAAIK8AAB1vAAA0rsAACi6AAAIOgAAYDkAAPc7AAB2PAAAXTwAAK47AAAIOwAAszsAANE7AAAGOwAAarsAAFy7AACAuwAAMLwAAIi8AIAAvAAAcrsAABO8AADFuwAAiLsAAE67AADIOgAAOjwAQIU8AIB0PABAkDwAwIE8AABhPAAAfzwAQIQ8AIBRPAAASzwAgFk8AABWPACAiTwAgDY8AIARPACAMTwAAF88AABGPACAMDwAgCc8AIA9PACAhjwAwJI8AIC0PABAqjwAALE8AECtPACAnDwAwKg8AECqPABApDwAgHc8AIAtPAAAHzwAgD08AIAsPAAA/zsAAAw8AIAhPAAA7zsAAIY7AAAwOgAADDsAAJg7AADkOwAAGDwAAIw7AAC4OgAAWDoAAAC4AACGuwCAArwAAEa8AABLvAAAwbsAAPO7AAA1vACAHrwAACa8AIABvAAA5LoAAKo7AACHOwAA4DkAAIY7AIBJPACAfDwAgDo8AADkOwAArjsAAMC6AABsuwAAILkAANi6AABuuwAAtbsAAMe7AAAoOgAAtDoAACi6AACYOgAAQLoAAFa7AACpuwAAZjsAADC6AADLOwAAO70AgOy8AAA4PACAwLwAAEu8AEAsPQAAZj0AAME8AACIugCABTwAwIQ8AIDHPAAAlzsAwPW8AECIvAAA0rwAoB29AECOvAAAALgAACo8AIA+PACAM7wAwA09AIADPQAARDsAAB08AMC3PACAaTwAAMS7AECgvACAWb0A4Bm9AIBivQDg3r0A4Di9AIDWPABAnzwAoAI9AOBMPQBgXj0AwI88AABouwCACT0AAFA9AAApPQAAFzwAwIC8AAAyvQCwnb0AgF+9AAB9PADgCD0AAJy7AIDlvACQl70A4Ai+AHAlvgDAK70AsIg9APAHPgDQ6T0AgNa8AJC0vQDQJr4A4HW+AKgfvgAA1LsAkMA9ADALPgDg/j0AgM09ACBaPQAA4LsAoIi9AKC9vQAglr0AgFq9AOAWvQAAH7wAAH+8AEAQvQAgYr0AAAK9AABmOwAA3TsAACq8AEATvQAA77sAwIq8AOAYvQDAzDwAsKE9AAA+PQAAGbwAAHC8AEAGvQDgnb0A8LW9AABHvQCAUbwAAPy7AAAYuwAAhTwAIDE9AADePAAACLwAABe8AMCDPACArTwAAHc8AECaPABAtjwAAMW7AIBHvAAALrsAQBe9AEDNvABA97wAIFe9AAAAuQBwlz0AMJc9AKBkPQBggj0AYIM9AIBEPACAQ7wAgL08AEAOPQAAPTwAAFq7AED5PAAgLT0AgDQ8AABaOwCA2DwAQDM9AEAqPQAgET0AoIo9ALCAPQCAwTwAAFA7AADPOwCAHbwAgMC8AAAAuQCAFD0AwIs9ADCMPQCAHD0AAM48AAARPQAAlzwAAKy6AIALPACA2TwAgFc8AADUOwCA+DwAYCg9AIASPAAABrsAwLE8AIBIPQDABD0AAJQ7AACtOwAAGzwAAJO7AAAYvAAA8TsAgC48AMCUvAAgB70AwKW8AAC4vACA37wAANi8AMC2vAAAr7sAAAu8AECxvAAACLsAQJy8AADrvABA3bwAAH+8AEDpvABgHr0AAHS8AMDYvAAA2rwAANa8AMClvAAAS7wAYBa9AMC0vAAAnzsAAK27AABtvAAAOjsAAOw6AACTvABAmrwAAJm7AABNvACATL0AYGG9AADVvAAAHbwAAOS7AAA+OwAAijsAALg6AAC1uwDA/7wAAOi8AIBqvADAFb0AQNq8AIAzvAAAlrsAwLe8AECWvACAUTwAAMO7AIC6vADAxLwAAGG8AEAHvQAAaL0AAPa8AAANvAAAQLoAADo8AMAWPQCgHD0AAMW7AECgvABgC70AQFS9AOAhvQCA77wAgD68AADfOwCAGTwAAIQ8AAAgPQAgdD0AIDQ9AMClPACAXzwAAJ47AABIOgAAPrwAgNS8AACUuwCASDwAgFc8AIA1PACAhDwAwLQ8AAD8OgAA9DsAACs8AIB+PACAFTwAgEw8AEASPQDgHT0AwEA9AEB9PQDgbz0AAGs8AACkugAAVDwAAFC7AMDsvACAuLwAABi6AAAguwAAs7sAAPA6AMCNPACAATwAALK8AABJvACA+zwAYEg9AADLPABAlTwAoDE9AIDTPAAAwbsAAIg7AIApPQAAZj0AYAw9AGAvPQDAmj0AoGU9AIBHPAAA8zwAIIg9AHCEPQCADj0AwM08AEAEPQCAULwAACC9AADqOwCgGD0AwMI8AMCGPAAAYj0AAGY9AAD/OwCAILwAAAC7AACMOgCAGrwAABa7AIA1PAAAoDkAQIi8AACbuwCAZTwAAJ47AACYvAAAfbwAgFa8AEDcvAAA57wAgNC8AABguwAAzDoAwJk8AID7PABAyDwAAOU8AEC4PACAUjwAAPS6AACiuwAADbwAgCW9AKAlvQAA87wAgPO8AACWvAAACLoAAE47AABfvAAAzrwAAHe8AADeuwAAELoAgEI8AAC/PAAAMzwAgMe8AADxvAAAQrwAQMy8ACBtvQCge70AAN+8AADPvAAAY70AoA69AABOvAAAmbwAoAC9AACkvACAVDwAAII7AICuvADA4LwAgJa8AOAIvQDwh70AgFu9AKALvQDArbwAAMy8AAAfvACABzwAgEW8AADQvABA7LwAABS8AMCFvADAD70AAHi8AADMOgAApLoAQMm8AADTvAAAejsAAJ+7AIDZvABAh7wAAAs8AACtPAAA47sAAKK7AMDGPAAAizsAAMO8AMDXvAAADDsAgBC8AEBSvQBAAr0AAD28AABgvAAA9rsAgCg8AKAbPQDgAj0AgB08AECsPADAnzwAAIA6AECYvABAsrwAAAq7AACVvAAACb0AQMC8AABsuwCAizwAAAY7AIAHvACAtTwAwO48AABCuwAAqrwAADI7AIBOPABAmbwAQPC8AADwuwBArzwAAJA5AMCGvABAjzwAgCU9AMAoPQCAxDwAIAc9AEDLPAAAV7wAwLi8AIBcvAAAOLoAgK28AAADvQAAeLsAADQ7AACPuwCAKrwAgIo8AADOPAAAgDsAQII8AMDQPACALDwAAMu7AECNvADA1LwAwMq8AADQuQAAyjsAAMm7AABgOwCAkDwAwO88AID3PAAgPD0AQGE9AOAKPQCAODwAADA8AABDPACALrwAgLK8AADcuwAAqDwAgGE8AACYOwCAAT0AIBE9AACTPAAAzrsAgGw8AADXPACAKrwAAJe8AAADPAAAbDwAgE28AEDevAAAWzwAwPA8AAACvACAALwAwK48AGAEPQCAADwAgHa8AAAAugAAODwAwI+8AGAcvQCAQrwAgAC8AMDgvADAwrwAAAw7AMC9PACATzwAAFg6AACrOwAAEDoAQJW8AEDjvAAAtbsAALY7AADouwAALrwAANE7AADzOwBApbwAwNW8AADMOgAAWjsAICW9AMA+vQCAarwAAOu8AKB1vQDAUL0AwNK8AMDjvACgNb0AQK+8AAB+OwCAN7wAQAa9AEDjvAAAGrwAAJK8AEDbvAAA6bsAABw7AACluwCAgrwAAN87ACAMPQAgBD0AwMw8ACBBPQAwiz0AoDw9AIC4PAAA5TwAQOo8AABwuwDAuLwAAOy7AIAxvADAuLwAAOm8AADhuwAASLoAAJu8AIBwvACAW7wAwPi8AABMvQAAcL0AoEe9AKBYvQDwhr0AYBu9AAASuwDAkzwAICA9ABCRPQBgwj0AILQ9ABCkPQAgvz0AgLo9AJCcPQAQlz0AUJw9AKBuPQBAhjwAAPI7AIA0vACAFr0AgEG9AABdvQAgtr0A8Lu9AGC2vQAQ2L0AMPa9AHD6vQBgrL0AAKa9AJCivQCgMb0AAEA5AOAfPQBgeT0AAKU9ACD1PQDA+z0AYM49AHCpPQAgxz0A8Oo9ADDhPQDgzz0A8Pc9AFAGPgBAnT0AYCE9AIDePACAD70AMMu9ALDhvQCQo70AUL+9AKADvgAww70AACK9AEBXvQAgdr0A4CO9AACjuwAAkLwA4De9AACouwAAujwAwKA8AKADPQBADT0AsJ09ABCiPQDQqT0AEP49ACAvPgAYUj4A4F8+AMBWPgDgLj4AgAA+AICQPADAkL0AwPi9AGAPvgB4J74ACDe+APAYvgDgtr0AMKK9AIBPvQAAdLwAgNQ8AIAHPQCASjwAwJA8AMCkPAAAwbwAQCa9AIAHvQAABDwAwIQ8AIC5PAC4CD4AEC0+AMhWPgBohD4AuKc+AOybPgDoXT4AqCY+ADCGPQBAb70AmBO+AHA7vgBYUL4AoG6+AHh4vgCYJL4A8Oy9ACCuvQAAFL0AgNk8ACBuPQBAbT0AIJM9AMB+PQAAwLkAMJ69AGCsvQDg0r0AgJG9AKBzvQCABDwAcOc9AKAOPgCIUj4AoJU+AAiVPgAwaD4AyFE+AKBGPQCAXr0AkBq+AGBmvgBEgr4AsKu+AFSevgBIgr4A4Fy+AGAlvgBwib0AAOy7AIBFPQBAbT0AcKM9AOCWPQDAgLwAUKi9AKDlvQA4Ir4A+De+AID2vQCAir0AgHs8ADCRPQDAFD4AqIA+ACh0PgCwUz4A+Fc+AOC6PQCA/bwA4MO9ANgQvgAgOr4API6+AFiNvgDoXr4AeEq+ALghvgDgx70AgHi8AMAKPQAgeT0AcL89ALDAPQCAMT0AAFK8ACA3vQCAgb0A8Iy9ACA8vQCALrwAgDk9ADDbPQAYHT4AgFQ+AHB+PgAwWT4AyFU+AAAtPgCgOz0AANk8AEDmvACgpb0AUAK+AMA2vgDwGb4AkAK+ABgOvgBgvL0AAAy9AAAQvAAgGz0AIDQ9AABVPQCARj0AAO87AIA4vAAA/bwAQDa9AOBUvQAAo7sAYEw9AOBkPQAA2z0AADg+AMg6PgC4Qj4AiD8+ADBAPgD4SD4AgHE9AADwOgAAOzwAAFm9AFD0vQCIKr4AoA6+AMDgvQAoCb4AAMu9AAB+vAAAHTwAgFw8AEA8PQDglz0A4IY9AACPPACAKbwAgGa8AKA6vQCggb0AQPe8AIBUPACA2TwAwKI8AMDFPQCgJj4AuBU+AAAuPgBwMT4AcEY+AGgDPgAAwDgAAIs7AAC/uwDQpr0AQBm+AIgovgCQBr4AYBe+ANAcvgCQtr0AAAS9AKARvQCAf7wA4BI9AAAcPQAAfjsAwOi8AIDvvABgZr0A4LS9AEC7vQDQub0A4HC9AIBavAAAGDoAwE89AFgDPgAICj4AyA8+AHD8PQDwFD4AUNA9AMB8vQCgXb0A0Ii9ANAcvgCQQr4AmFC+AMAovgA4Lb4ACDu+AGDGvQBA5bwAwD69AECXvABA8jwA4AE9AAA4uwBgW70AwF+9AICivQBoAr4AMOW9AGC+vQCAnr0AIDm9AIAQPQAAmT0AoOw9AGg+PgCQPz4AQCE+AIgpPgCwDT4AgGM8AICXvACgNr0A4LO9AHgWvgCYUb4AKAy+AKDkvQBwA74AAHy9AABLPAAAfTwAgMc8ABCRPQCQrD0AIDc9AAB9vACAM7wAQIu8AECCvQCAfb0AwJ68AABaPAAATT0AELU9AIgfPgBgcD4AOHI+ABBkPgAQTz4AkHA+AJgfPgCAOrwAwK88AACouwAgvb0AMP69AIAOvgAQlb0AkMG9AIC4vQCALTwAQAo9AICQPADANj0AAH09AOAbPQDAvTwAQIW8AMCxvADAQ70AgKa9AOAwvQCAaL0AAKi8AEAePQAQlD0AeAE+AODzPQA4QD4A+H4+AOgjPgDACz4AkEI+AIA9PQDAVr0A4D29ABDGvQCIBr4AcGO+ALA1vgCwz70AcCS+AMDwvQCAbL0AQAS9AOA2vQBAr7wAgI08AIAgvACA0rwAYHq9AKAqvQBQgL0A0Ie9AADGvAAA7LwAAEi6ACASPQAwvj0AKAQ+AJgFPgCIWT4AMHA+AMDZPQAgNz4AgB4+AMCevAAAwDoAgBO9AAAxvQBQzr0AgDG+AEBovQAAkL0A0OO9AAA9vQBA5bwAAIg6AOAZvQAAGLsAQE49AADsvAAA3bwAgMy8AMArvQDAXL0AwGO9AAAIOgAAmDsAAE47AACPPQDg6j0AcO49ACg4PgDYbz4AeAA+AFAhPgC4Nj4AABq8AIAxPABA9bwAkIa9AHDevQD4br4AgPm9AOAavgAAQb4AENi9AIDkvQDAUL0AsLe9ACBvvQBAPT0AIFK9AEAQvQAAVrsAQDe9AOBJvQBgnr0AAJq8AIAUvAAAVL0AAMU8AICjPQDAxj0AcOs9AGhIPgBYWj4AYMU9AFBSPgCw+j0AgCe9AAAjPADwmL0AEIu9ADA4vgDgUL4AUM69AChdvgBoL74AYNK9ALChvQBgN70AEJi9AHCHPQBggj0AgDi8AIB9PQAArTwAACS8ACA+vQAARL0AAHg7AKABvQAAPDwA4M09ANAAPgAIPD4AQJI+AABLPgDALT4AbI4+AEBPPQAAADoAAMC6AEC+vQCoDb4AMJG+AEg0vgAASr4AGI++AMgSvgDQ7b0AwL69AKBKvQAA+7sAcLo9AOARPQAAMjwAIKs9AACwOQCAn7wAAD29AABGvQCAFLwA8K29AICTPACwhz0AEOQ9ADA9PgB4fD4AjJM+ANAePgAAkT4AAO09ACAqvQAAkjwA8MW9AJAMvgCIiL4AsFW+ACA1vgBsiL4AKCW+AIC6vQBwxL0AoBy9AIBpPADg9z0AwJA9AGAEPQBQCz4AABI8AACQuwCAoLwA4By9AOAEvQAANL0AAIM9AADjPQBgHj4A1KU+AFCjPgBASD4A9Ls+ALAOPgCAODwAAHk8ABC5vQAYAL4A2Ju+ABBbvgA4Ur4AyJi+ALgsvgCwzb0AAPW9ACAAvQAACD0AsL09AACZPQBwkz0AGAs+AMCaPAAAtzsAAJ67AOBuvQCAlL0A8Nu9AAAsPAAAdjwAEMg9AMBiPgCAnD4AUGI+ABCVPgAYnj4AAEK7AEA8PQBA6bwAoPS9ALyAvgAYh74AsFm+APinvgBMgb4AWB2+AOghvgDA2r0AwLi8AIDOPACAYz0A8II9AIDVPQAgCz0AgEo8AAC/OwBgk70AkIi9ACBivQDAvLwAgM08AIDiPQCIcj4A3KM+ADBHPgCI0z4AaGc+AICDvABw5z0AkJa9ACA5vgDgkb4AiGi+AKyQvgDsxr4A8ES+AJgrvgA4eL4AYHy9AEChPAAA6zsA4EM9AKgKPgDgoz0AABK7AKAhPQAAlLoAwO69APC+vQBggr0AUIW9AIDGvABQBT4A+EY+ANyYPgBskz4AqKw+AGy+PgCAUz0AoPk9AIA/PADAOr4AGFK+ADSMvgDok74AyLi+AMiTvgDYPL4AqIG+AJC0vQAACDoAAB67AHCxPQDgDT4AIAA+AGBaPQDQrT0AQIQ8AFC2vQCgcr0A4D29AABqvQDgHT0A6BQ+AAh3PgA0uT4AHIc+AEDwPgCslj4AoI49AGg9PgDgAb0AwAy+AAhkvgCQgr4AAJW+AADBvgDIXb4AmGO+AKhcvgBAgLwAAJi8ACBXPQBQAz4AcC0+AOD4PQDAyD0AQOg9AAALvAAA4LwAgCS8AFC1vQAAJ70AgEk9AMACPgCYPD4ANMc+AECePgBAvT4ASNs+AGgBPgDgKD4AwEY9AODovQBwMb4AyHy+APCJvgBgqb4AaHe+APBEvgDwaL4AwF69AABZvAAAnTsA0OU9AKgjPgAIBT4AgNM9ADAUPgAAADwAACy9AACrvACA7L0AYIK9AACeuwBgwz0AaAM+AHynPgCAjj4AaKk+ABzaPgAgoT0ASBg+AEBRPQAIGb4A0Du+ACyGvgDonb4AIMC+AOSMvgBYdr4AQIq+ADC3vQDwir0AgN68ABC3PQBw4j0AMK09ABC4PQCwqD0AANS8AIAHvQDA77wAyAS+AOCYvQDAv7wAYBk9AIDHPQCsjD4ARIU+AFiDPgD05D4AwKY9ADDoPQCgxj0AMDi+AIAwvgDQe74ADJ++AEi5vgCAkb4AWIG+ADiRvgBQ0b0AELa9AOCVvQCgnT0AELQ9AACIPQCgrT0AULE9AAAUOwAAHL0AwL68AODzvQDA4L0AAP+8AABQOgAwxj0AuFg+ACClPgDoXj4ApN8+AChvPgAgiD0AID8+AIDhvQA4Ir4AgFK+AKibvgB0sL4AKKG+AKyLvgAMmb4AEBy+AJDjvQBw4L0AUIA9AFCPPQDgdj0AQO49ADDFPQCA4jwAAKQ7AACQugAAnr0AAHi9AAByuwCAJz0AEN49ADB8PgD0wD4AiGk+AJz4PgA4jD4A0I49APBrPgBg5r0AMAu+AMAuvgBMpr4ArKu+AAibvgAUir4AKJm+AGgRvgDw2b0AELu9AECmPQBgiD0A4LI9AGgKPgBwtT0AYFI9AMADPQBAibwAIFq9ACCGvQCASLwAgFy8AFDdPQAoMz4AHKk+AHC3PgDcnD4AoAE/AGgfPgAINj4AsPY9AGAjvgDg9L0A4IC+ANSlvgCEoL4AIJe+ANiMvgBQZb4AkAC+AODovQAA3jsAoKU9AEBjPQBwAj4AAPY9AOAsPQBQgj0A4AI9AAArvQAAwbwAQEK9AIAlvACgFT0AoP09ALhGPgAwrT4AfLI+AFifPgAI+T4A6A8+AJAUPgCw4T0A0E++ANDuvQDggL4APLe+AJyXvgAMmb4AkIq+AKA4vgCw570AELq9AADhPADgqD0AUJM9ABAaPgBQ0z0AQC09AICSPQCAbLwAAAK9AIC0vABAPb0AgAI8AKCPPQCQBD4AMHk+APzGPgDYaz4AFOo+ABSjPgAAZD0ACFQ+AAgJvgCAKr4AYDO+AMy/vgB4qb4AvKO+ANirvgBQgL4A0Cq+AOA0vgCAcL0AAHA7AIAFvADwmD0AwGQ9AIA5PADA9DwAIBO9APCmvQCASr0AsOG9AOCpvQCA97wAgEs8AIDEPQAISD4APKY+AOhEPgCcyz4A+FY+AIApPQDgEj4AgEa+AJgsvgDAZr4AkMe+ANClvgC0q74AoKm+APBtvgAoRr4AICq+ACBovQAACL0AAK47AACBPQAgOT0AQCs9AEAYPQAAADkAgD68AACLOwBAXr0AANO8AAAYPQBAXz0A4DM+ABBvPgC0tD4A0IE+APjJPgD8nj4AUK09AIBMPgBAvr0AsJW9ABAAvgCQmr4A8Fi+AJiCvgBYhL4A0DW+AMgQvgAAEb4AIA29AACtuwCApzwA0Io9AEB+PQDAlz0AgGM9AIA3PQCA7TwA4EE9AAC6uwAApDwA0J89ACCZPQDgMj4AgG8+AFi+PgAwbT4A1Mo+AHSgPgCgYj0AuGc+ABCsvQCwk70AIM29AOSVvgBwRL4AfIa+ACCFvgAwJr4AoDm+ABgdvgBAKL0AgBK9AIAsPADgiD0AAFI9AKCQPQCwqj0AIDI9AACIPQBgND0AwIY8AMAbPQCAIj0AYJA9APgkPgBYND4A9K0+AOiCPgDwmj4ArNw+AAB2PQDMhj4AgOc8APDJvQAAOjsAtIq+AMhTvgDodb4AHI++AOhVvgA4Vb4AgEC+AFD6vQBAcr0AAI69AKBnPQDA/DwAIEk9AHDhPQAApjwA8LQ9AAD2PAAA4zsAgOE8AEC7vACA8DwAYG49AEC7PQBILD4AcIw+AEgjPgDsrj4A4EM+ACCSPQD4HT4AMBm+AKBevQAoSL4ASKC+AEh8vgD4s74AbKa+ABiLvgCAm74AiGK+AAgLvgDwNb4AAGG8AADdvAAA+rsAwI89AACqOwDwiT0AgIM8AADsOwAA1DwAgFq9AADkugCANzwAgCg9ACC+PQCwdz4AIEQ+AAhrPgDIwT4AEJ89AIhoPgCAUz0AEKO9AADMuwCwe74AKFi+ANyHvgCcoL4AjIy+AEByvgAwcL4AsBq+ADD0vQCAeb0A4AI9AIAvvACA5j0AkIE9AGC2PQDA4D0A0J89AKCXPQCAMz0AgOE8AGAdPQAAQD0AgNk9AAgnPgAMjz4AgGc+AFioPgBstD4A8Ak+AMSJPgCAaDwAAAK8AOAevQDYg74AkEu+ADSSvgBso74AmHO+AICKvgBAcr4A6AW+AEAZvgBAGL0AAPg8AMCBPADg5j0AoKg9AKDcPQCQoT0A4K89AMAPPQAAPLsAAIA5AACQvADAHD0AgFY9AAgaPgAwhT4AuEU+AKCuPgCAnD4AeAE+ABB5PgCAIbwAoAu9AOCuvQDoj74AUGW+AAChvgBYsr4AiIG+AFSWvgCIYL4A6AC+ADAKvgCANjwAAM88APCrPQCAGz4AMMI9AHgnPgBg+j0AEKo9AICmPQCgCT0AAMO7AECHPAAAijwAYGs9AFDpPQDYLT4AVJk+AFg9PgBYzD4AgGI+ANAiPgBQNz4AoLe9AADguwDgUb4AeIC+ABiIvgCkrr4A5Ja+ABiIvgD0gr4AODK+APDavQDQnb0AYEA9AOBgPQBw5D0A0AY+AGDdPQCgIz4AoJU9AFCQPQAA3jwAQLm8AEDAvACgEb0AAGS8AHCOPQAQpj0AcGA+ANhQPgC4cz4AQLY+AJC7PQDwYj4AAJ27AGCNvQDAaL0ASI6+ANBNvgCEmr4AJJy+ANB7vgA4f74AcE6+AFAEvgBA3r0AAKK8AED5PABA4DwA4Ow9AEBvPQAA0z0AMJs9AEDePAAAuDwAAEC9AIAevQAgZb0AALG8AABGOwAgWT0AYDE+AEBiPgC4Rz4AeL0+AIArPgAQKT4AIAY+AGDJvQAAg7wAgGK+AMhhvgAoi74AjK2+ABiAvgBkir4ACGy+AEgQvgCYBb4AoIW9AIDFPACAfTwAIME9AFC3PQBglj0A0OI9AMAlPQBgJj0AAIA5AMAdvQCgNr0AoHG9AEA1vQDAiTwAQLQ8APgDPgBQcT4A8AY+AGy2PgDYKT4A+A8+APAbPgCAqr0AAP67APg9vgBAar4AmG++AICpvgBYir4ArIG+AOSEvgDIPL4AGCO+AAD6vQAA0rsAwPa8AFCIPQBQrz0AEIg9AMgEPgCwkz0AAJk9AAA3PQAAlrsAgCS8AKASvQAAhDoAQPE8AOCBPQDYDz4ADIE+AKg9PgAQqz4A2I0+AOgsPgDYaj4AACI8AIA+PQDwjr0ACCO+AFARvgC4fr4A4GK+AFBSvgB4d74AsA2+AKgavgCQk70AAMo7AICxPAAA4T0AQAc+AGAsPgAwKT4AWCI+APgEPgCgzD0A4GI9AAC0OwAA1bsAgD68AEC6PABgiT0AUOc9AIB1PgDEgz4AfJQ+AHzPPgDwcz4ACJc+AAghPgAAWz0A4DM9ANALvgAgB74A0G2+ALCSvgCwgr4AXJa+AMB2vgBASL4AOCW+AAAxvQAA+bsAALo9AHADPgDIDT4A6DU+AIDzPQBg9j0AYDI9AACEPAAAOb0AAKe9AFC6vQCwp70AAAy9AED+PADgnj0AEGQ+APhXPgDMmj4AYKc+AJgvPgDgbz4AwKE8AIAYvADQ0L0A0Ha+AKiJvgDEsL4AlL2+AHyhvgAom74AQHO+AJAevgCQw70AQJo8AGByPQCQ9j0AWAY+ABALPgBw+j0AIGE9AMDsPABAKr0AkI29ADDrvQCw+b0A0OO9AFCGvQAAyLoAUKY9ADgMPgBYhz4AwHA+ADSqPgAklj4AmAk+AFBGPgBwor0A0Ii9AGBVvgCApL4AAJ2+APDUvgCEqr4AdKS+AIiPvgBALb4AsA6+AOA9vQDAxTwAQFQ9ANDvPQBAiz0AAKI9AJCFPQAAXrsAgAa8AMBgvQCwh70AIF29AKBqvQCANLwAwMA8ABCmPQDIJT4AqEc+ALCdPgDYZD4AHK8+AFhSPgBw/D0AMNI9ADDYvQDgl70AMHK+AKiCvgDokb4AmJW+AFh8vgDwUr4AKCO+AICfvQDALr0AAOa7AGB+PQAgOD0AsNw9ANCFPQAQnD0AcIg9AMC9PAAwiT0AAHU8AAA3PQCAeDwAAMw8AGA4PQDgQD0AcMs9AFgIPgAIIj4ABIM+ALA4PgCAez4AIHI+ANCPPQDYDj4AkJG9AGA1vQBg3r0AcES+AOAAvgBgTb4AoBO+ANDovQB4BL4AQHS9AIB3vQAAKr0A4CI9AAAVPABQlT0AMIs9AECRPQCw3z0AYFo9ANC2PQAANz0AwCU9AADOPAAApLsAACy7AADquwCAgDwAgAQ9AIBoPQCA8T0AIAo+AJD6PQCwWj4AIK09AAD+PQBA7TwAID29AECWvACADL4AENm9AFgdvgBAMr4AiA6+ABAnvgAA9L0A0L+9AMCxvQAA3DoAAKo7AAB0PQBwrz0AILM9ALDzPQAgpT0AgKk9AEBzPQAAFjwAAAc8AEAdvQDAfL0AkIi9ALCgvQAASb0AwOy8AAAkuwAAsD0AsMs9AGD3PQDQVj4AAKw9AMD4PQAAED0AQBO9AGAVvQAYG74A+Bq+AIhOvgCIYL4A4Dq+AOhIvgDQIb4AwOe9AMDPvQBAtLwAgIO8AMD3PAAgXz0AoCM9AGBWPQAA/jwAAGY8AACFuwAA3rwAQGq9AGBuvQCwvL0A0Lq9APCZvQAQr70AAOQ6AAAsOwDg3D0A6AI+AJgPPgBoZz4AUNo9AJgjPgAAJD0AwII8AIDIvACw4r0AgNa9AFgcvgAwH74AaCq+ALglvgDIFr4AkPK9ANDVvQDAUL0AQHa9AAB0uwAAQLsAAMQ6AOBiPQAApzsAIFA9AADtOwAAQLwAABo7AJCLvQDgQ70AAHa9AOBFvQAAPLsAALA8AFCQPQBgEj4AsCE+AEBQPgBwiz4AiC8+AIB0PgB4CT4AgKs9AMB6PQCgOr0AQEa9AAAKvgAwFr4AGDC+ANA8vgBILr4AYCW+AMAAvgDAlL0AAEi9AAA+PAAgLj0AAG49ANC2PQCQmj0AMJU9ACA8PQCAuTwAgHW8AKBAvQCgPr0AYKi9AIAvvQBA8LwAQNM8AKC2PQAA/z0A8HA+AGhwPgCYkz4AOJg+ANBsPgDwbT4AMPM9ABCiPQAAFDwAwKG9ACDsvQBAPb4AMEO+AEA6vgAQQr4AoAO+AMDmvQBARb0AAIk8AKARPQAAyT0AILc9AEDBPQBgtD0AgGY9AIDtPAAAIrwAoAG9ALCNvQDwi70AwKO9AGA4vQAApbsAgEs9ADDmPQA4GD4AGFU+AICGPgDgaD4AlJY+ANhQPgBQLT4AkOM9AABiuwCAdrwAgAK+AIgPvgCARr4ACFW+AKhKvgAQPr4A2CC+ADDZvQDAob0AICy9AAA3vAAAODsAACg8AIAGPACAULwAwAS9AMA8vQBgib0AoJS9ALCdvQCAfb0AIG69AMC5vACAGjwAoCc9AICXPQDA3D0AsAM+AIgiPgCQQT4AkBs+AJg0PgCw4z0AsJU9AADUPAAAML0AQFi9ADD7vQCwAr4AKCa+AJgmvgBYGL4ASBi+ALAEvgAwyr0AELq9ALCMvQCgYb0AQGu9AAAmvQDgbL0AoA+9AMA1vQAA/rwAwIe8AAAHvACASDwAwKg8AEAIPQBgRj0AoG09ACCZPQDAvj0AQM89AEgHPgAw9z0A0Cs+AAD3PQCoID4A0N49AOCDPQCAlz0AgOa8AABCuwAQpr0AoLC9AJDuvQDgFr4AOA6+AAAavgDQEb4AmAS+ACgLvgBwz70A4Kq9ADCmvQDgFL0AAEy9AAA0vAAAkLoAAAw7AED/PAAAnzwAYCs9ACAnPQBARD0AgGQ9AOBiPQCAiz0AAJo9ABDIPQDA5T0AgOc9ABAkPgA4AD4A2Bg+APATPgCwmD0AgMU9AAAAuAAAADoA4Ey9AODLvQCg3r0AIB++AJAUvgCIKL4AODS+AGAPvgDgEL4AANC9AICnvQBAgb0AAI28AAAovACAkjwAgOE8AAA6PQCASz0AAIQ9AMBkPQBAdD0AQEA9AKAcPQDAQj0AYDI9AMBdPQDAaj0A4Ho9AECSPQBQnD0AcLI9AACmPQDApD0AQL49AGAQPQBARz0AAFa8AMAXvQCgUL0AIOm9AKC7vQCADL4AoAu+AHAAvgAgCr4A4NO9ALDbvQCwu70A8IO9AIBkvQBAiLwAgHu8AIAuPADAyDwAgLg8AKBBPQDATT0AEJM9ADCYPQCwrj0AAK89AACwPQCwwj0AQKI9AKC7PQCgmz0AoLA9ACCNPQDwoT0AYIg9AICSPQDAgj0AgGY8AOAFPQDAVb0AgL68AFCWvQAAub0AsK69AFDvvQDgz70AAMu9AADTvQDwr70AoL+9AIClvQDgZr0AYDu9AAD/uwAA3LsAQIg8AGAePQDANT0AQHw9AIBuPQBAkj0A8Ic9APCPPQDgnT0A8IA9AKCpPQAgcD0AgHw9AKB0PQBgND0AIEo9AGA+PQAA6DwAABY9AAB+OwAASrwAgB29AACYvQCwpb0AMMq9AIDCvQCA070AoNW9ADDpvQCw1b0AsL+9ABDTvQAwwL0AUL29AFCIvQCAVr0AwB69AECmvACAjLwAANa7AAAFPACAbTwAQN88AEDQPADA3TwAIDQ9AOAJPQBAdD0AwDQ9ACBTPQDAKz0AYAI9AAD9PADAmDwAAOg8AIC8PABA8TwAACA8AABoOgAA8LsAAAG8AAANvQDAAL0AAHO9ALCGvQDwmb0AsLK9AFCXvQDQnL0AQIa9AMBFvQAAJr0AYAS9AIA8vAAACrwAQIo8AACtPADA9zwA4Cc9AMBEPQCAaj0A0I09APChPQBAuT0AkJ49ADCkPQDwmj0AoH49ADCOPQBAdD0AQJg9AMCVPQCQlD0AMMs9AMDAPQBQqD0AAF09AEDIPAAAfjsAwJC8AEAjvQCAgL0AULC9AADNvQCQz70AYMi9AJDDvQCwqb0AsI29AGBxvQCA4rwAgLa8AIBVPADA+DwAADM9AIBoPQAAeT0AwIo9AGCWPQAwlj0A0KI9ALCzPQCAoD0AYKk9AGCmPQDAnT0A0LI9AACyPQCgyj0AMMA9ADDGPQAQtj0AIHk9AIAYPQAAgzsAgK+8AMBTvQBAir0AUJu9AFC1vQAA0b0AUNC9ANDUvQDwsr0AIKa9ALCWvQBgdL0AoEC9ACAyvQCA8bwAANy8AECAvAAAArwAAMq7AACuPAAA7DwAQFc9ACCSPQDgmT0AsKw9ADCkPQDgvz0AAKk9AJCtPQCQoD0AAGw9AKBaPQDA+DwAgOo8AAB6OwCAf7wAQCy9AEB8vQCAjr0AoKu9AGCXvQCwpL0AoI+9AOCUvQBQjr0AkJy9AGCdvQAQnL0AAKq9ADChvQAwqL0AYIu9AOBivQBgHr0AAAS9AICcvAAAFjsAgBg8AECwPABgAj0A4Co9AOBrPQBgeT0AEJI9AOCVPQDgkT0AwFY9AMBIPQCAHj0AYAU9AGAPPQCA8TwAQPY8AIChPAAAwzwAAIO7AICEvAAgHL0AgE69AABmvQCwl70AkKK9ANDFvQBwqL0AgMS9ADCrvQBwnL0A8I+9AOA7vQAgJL0AAM27AAAoOgDAiTwAgMA8AMDsPACAIz0AwDk9AKBkPQCAYD0A4GI9AOBnPQAAeD0AEIw9AECDPQCwiz0AEIo9AMCJPQCgkT0AIJQ9ADCePQAAmD0AMIA9AEBPPQAADT0AgMA8AADNOwAAsLkAgCa8AABivAAAmLwAwPy8AIAAvQCgNr0AgNS8AADSvAAATrwAgGu8AADtuwAA8DsAAJg7AMC8PADAnzwAAFA8AACyPADAtzwAgC09AIBMPQCAPT0A4Go9AHCGPQDAgT0AwHg9AOBhPQDgUD0A4BY9AIDNPAAAmTwAQIE8AMDSPABAiDwAAL08AAChPAAAXTwAAN87AIABvAAAl7wAgAi9AKArvQCAQr0AIGG9AOB6vQDge70AoI29APCbvQBQm70A8JS9AJCTvQCQgr0AoFC9AMAjvQCgAb0AAOW8AACHvAAAj7sAADg6AACwuQAAkzsAAAG8\" type=\"audio/wav\" />\n",
       "                    Your browser does not support the audio element.\n",
       "                </audio>\n",
       "              "
      ],
      "text/plain": [
       "<IPython.lib.display.Audio object>"
      ]
     },
     "execution_count": 63,
     "metadata": {},
     "output_type": "execute_result"
    }
   ],
   "source": [
    "#Classify a live spoken audio through microphone\n",
    "predict_audio(record_audio())\n",
    "ipd.Audio(test_audio_path+'test.wav', autoplay=True)"
   ]
  }
 ],
 "metadata": {
  "kernelspec": {
   "display_name": "Python 3",
   "language": "python",
   "name": "python3"
  },
  "language_info": {
   "codemirror_mode": {
    "name": "ipython",
    "version": 3
   },
   "file_extension": ".py",
   "mimetype": "text/x-python",
   "name": "python",
   "nbconvert_exporter": "python",
   "pygments_lexer": "ipython3",
   "version": "3.8.3"
  }
 },
 "nbformat": 4,
 "nbformat_minor": 5
}
